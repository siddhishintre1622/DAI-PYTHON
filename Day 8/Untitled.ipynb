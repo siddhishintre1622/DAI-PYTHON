{
 "cells": [
  {
   "cell_type": "code",
   "execution_count": 2,
   "id": "b33190f4-1be4-44c0-b507-a5643de40b7a",
   "metadata": {},
   "outputs": [],
   "source": [
    "import numpy as np\n",
    "array_1d = np.array([1,2,3])"
   ]
  },
  {
   "cell_type": "code",
   "execution_count": 3,
   "id": "b4b9ae94-a83f-461f-8db2-972f923d3023",
   "metadata": {},
   "outputs": [
    {
     "name": "stdout",
     "output_type": "stream",
     "text": [
      "[1 2 3]\n"
     ]
    }
   ],
   "source": [
    "print(array_1d)"
   ]
  },
  {
   "cell_type": "code",
   "execution_count": 5,
   "id": "6c06081d-4d68-45bb-a10b-016c8329c7d1",
   "metadata": {},
   "outputs": [],
   "source": [
    "array_2D = np.array([[1,2],[3,4]])"
   ]
  },
  {
   "cell_type": "code",
   "execution_count": 6,
   "id": "9b524a32-c01d-4bc9-b97f-1e5add3c054b",
   "metadata": {},
   "outputs": [
    {
     "name": "stdout",
     "output_type": "stream",
     "text": [
      "[[1 2]\n",
      " [3 4]]\n"
     ]
    }
   ],
   "source": [
    "print(array_2D)"
   ]
  },
  {
   "cell_type": "code",
   "execution_count": 7,
   "id": "c95637ef-0751-4589-be2a-c72ab63e509d",
   "metadata": {},
   "outputs": [],
   "source": [
    "array_3D = np.array ([[[1,2], [3,4],[5,6]]])"
   ]
  },
  {
   "cell_type": "code",
   "execution_count": 8,
   "id": "30c1e5e8-9d22-44a6-ace7-db6ebe737dde",
   "metadata": {},
   "outputs": [
    {
     "name": "stdout",
     "output_type": "stream",
     "text": [
      "[[[1 2]\n",
      "  [3 4]\n",
      "  [5 6]]]\n"
     ]
    }
   ],
   "source": [
    "print(array_3D)"
   ]
  },
  {
   "cell_type": "code",
   "execution_count": 9,
   "id": "c5416292-d55d-4392-9c3e-9b54585bb852",
   "metadata": {},
   "outputs": [],
   "source": [
    "zeros = np.zeros((2,3))"
   ]
  },
  {
   "cell_type": "code",
   "execution_count": 10,
   "id": "8642cdd6-e9d9-40c1-8a93-c5c1e0da1005",
   "metadata": {},
   "outputs": [
    {
     "name": "stdout",
     "output_type": "stream",
     "text": [
      "[[0. 0. 0.]\n",
      " [0. 0. 0.]]\n"
     ]
    }
   ],
   "source": [
    "print(zeros)"
   ]
  },
  {
   "cell_type": "code",
   "execution_count": 11,
   "id": "bf3bafaf-df91-4f99-9527-e3a6ac2b1e79",
   "metadata": {},
   "outputs": [],
   "source": [
    "ones = np.ones((3,4))"
   ]
  },
  {
   "cell_type": "code",
   "execution_count": 12,
   "id": "de0e24af-f4aa-4477-a04f-9228231953d4",
   "metadata": {},
   "outputs": [
    {
     "name": "stdout",
     "output_type": "stream",
     "text": [
      "[[1. 1. 1. 1.]\n",
      " [1. 1. 1. 1.]\n",
      " [1. 1. 1. 1.]]\n"
     ]
    }
   ],
   "source": [
    "print(ones)"
   ]
  },
  {
   "cell_type": "code",
   "execution_count": 13,
   "id": "a10fb6c7-2824-4a08-a0b7-d1ad9056ab81",
   "metadata": {},
   "outputs": [
    {
     "name": "stdout",
     "output_type": "stream",
     "text": [
      "[[7 7]\n",
      " [7 7]]\n"
     ]
    }
   ],
   "source": [
    "full_array = np.full((2,2),7)\n",
    "print(full_array)"
   ]
  },
  {
   "cell_type": "code",
   "execution_count": 15,
   "id": "2345d26e-b172-4278-ad98-11ad8dd563fd",
   "metadata": {},
   "outputs": [
    {
     "name": "stdout",
     "output_type": "stream",
     "text": [
      "[0 1 2 3 4 5 6 7 8 9]\n"
     ]
    }
   ],
   "source": [
    "range_array = np.arange(0,10)\n",
    "print(range_array)"
   ]
  },
  {
   "cell_type": "code",
   "execution_count": 16,
   "id": "80f9efd2-445d-43c8-a67b-e573e3dd5858",
   "metadata": {},
   "outputs": [
    {
     "name": "stdout",
     "output_type": "stream",
     "text": [
      "[0 2 4 6 8]\n"
     ]
    }
   ],
   "source": [
    "step_array = np.arange(0,10,2)\n",
    "print(step_array)"
   ]
  },
  {
   "cell_type": "code",
   "execution_count": 17,
   "id": "cbe41244-dee2-4e2d-80d1-5597d26cc604",
   "metadata": {},
   "outputs": [
    {
     "name": "stdout",
     "output_type": "stream",
     "text": [
      "[0.         0.11111111 0.22222222 0.33333333 0.44444444 0.55555556\n",
      " 0.66666667 0.77777778 0.88888889 1.        ]\n"
     ]
    }
   ],
   "source": [
    "linespace = np.linspace(0,1,10)\n",
    "print(linespace)"
   ]
  },
  {
   "cell_type": "code",
   "execution_count": 18,
   "id": "85e0f852-d112-4b26-8bc6-8aae08a5dd5f",
   "metadata": {},
   "outputs": [
    {
     "name": "stdout",
     "output_type": "stream",
     "text": [
      "[[0.32500942 0.36972559 0.66567169]\n",
      " [0.02508686 0.85713759 0.43339434]\n",
      " [0.23736336 0.24756013 0.67063424]]\n"
     ]
    }
   ],
   "source": [
    "random_array = np.random.rand(3,3)\n",
    "print(random_array)"
   ]
  },
  {
   "cell_type": "code",
   "execution_count": 20,
   "id": "c22b6feb-d78d-4a67-86ea-25e6707b34c3",
   "metadata": {},
   "outputs": [
    {
     "name": "stdout",
     "output_type": "stream",
     "text": [
      "[[7 2]\n",
      " [3 7]]\n"
     ]
    }
   ],
   "source": [
    "random_int_array = np.random.randint(1,10,size = (2,2))\n",
    "print(random_int_array)"
   ]
  },
  {
   "cell_type": "code",
   "execution_count": 22,
   "id": "d56601e8-0048-4394-bc49-2ac89d71bee5",
   "metadata": {},
   "outputs": [
    {
     "name": "stdout",
     "output_type": "stream",
     "text": [
      "[[1. 0. 0. 0.]\n",
      " [0. 1. 0. 0.]\n",
      " [0. 0. 1. 0.]\n",
      " [0. 0. 0. 1.]]\n"
     ]
    }
   ],
   "source": [
    "id = np.eye(4)\n",
    "print(id)"
   ]
  },
  {
   "cell_type": "code",
   "execution_count": 23,
   "id": "2f3ee4e5-d15d-426c-a8d2-4530a1f01f76",
   "metadata": {},
   "outputs": [
    {
     "name": "stdout",
     "output_type": "stream",
     "text": [
      "[[1 0 0]\n",
      " [0 2 0]\n",
      " [0 0 3]]\n"
     ]
    }
   ],
   "source": [
    "dig = np.diag([1,2,3])\n",
    "print(dig)"
   ]
  },
  {
   "cell_type": "code",
   "execution_count": 27,
   "id": "15e4f743-0d26-4c86-aeee-c4aaa73c65e8",
   "metadata": {},
   "outputs": [
    {
     "name": "stdout",
     "output_type": "stream",
     "text": [
      "[2.12199579e-314 6.36598737e-314 1.06099790e-313 1.48539705e-313\n",
      " 1.90979621e-313]\n"
     ]
    }
   ],
   "source": [
    "emp_1d = np.empty(5)\n",
    "print(emp_1d)"
   ]
  },
  {
   "cell_type": "code",
   "execution_count": 28,
   "id": "2f838f49-465d-4c23-a979-6acf56ae0999",
   "metadata": {},
   "outputs": [
    {
     "name": "stdout",
     "output_type": "stream",
     "text": [
      "[[0. 0. 0.]\n",
      " [0. 0. 0.]]\n"
     ]
    }
   ],
   "source": [
    "emp_2d = np.empty((2,3))\n",
    "print(emp_2d)"
   ]
  },
  {
   "cell_type": "code",
   "execution_count": null,
   "id": "73a93948-8aa5-4ef0-8398-6a53841b1229",
   "metadata": {},
   "outputs": [],
   "source": []
  }
 ],
 "metadata": {
  "kernelspec": {
   "display_name": "Python 3 (ipykernel)",
   "language": "python",
   "name": "python3"
  },
  "language_info": {
   "codemirror_mode": {
    "name": "ipython",
    "version": 3
   },
   "file_extension": ".py",
   "mimetype": "text/x-python",
   "name": "python",
   "nbconvert_exporter": "python",
   "pygments_lexer": "ipython3",
   "version": "3.12.4"
  }
 },
 "nbformat": 4,
 "nbformat_minor": 5
}
