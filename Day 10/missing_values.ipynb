{
 "cells": [
  {
   "cell_type": "code",
   "execution_count": 1,
   "id": "e9ef4da2-1044-484e-9905-82d4df4c0b4e",
   "metadata": {},
   "outputs": [],
   "source": [
    "import numpy as np\n",
    "import pandas as pd"
   ]
  },
  {
   "cell_type": "code",
   "execution_count": 2,
   "id": "9dfb960b-aab9-49bc-b7ee-b1bf50ff72bd",
   "metadata": {},
   "outputs": [
    {
     "data": {
      "text/plain": [
       "2024-01-01     1.0\n",
       "2024-01-02     2.0\n",
       "2024-01-03     NaN\n",
       "2024-01-04     4.0\n",
       "2024-01-05     NaN\n",
       "2024-01-06     6.0\n",
       "2024-01-07     7.0\n",
       "2024-01-08     NaN\n",
       "2024-01-09     9.0\n",
       "2024-01-10    10.0\n",
       "Freq: D, dtype: float64"
      ]
     },
     "execution_count": 2,
     "metadata": {},
     "output_type": "execute_result"
    }
   ],
   "source": [
    "dates = pd.date_range(start= '2024-01-01', periods=10, freq='D')\n",
    "data = [1,2, np.nan,4,np.nan,6,7,np.nan,9,10]\n",
    "\n",
    "ts = pd.Series(data, index= dates)\n",
    "ts"
   ]
  },
  {
   "cell_type": "code",
   "execution_count": 3,
   "id": "5ac9dade-9f3f-4f71-9ceb-38c543d5db1b",
   "metadata": {},
   "outputs": [
    {
     "data": {
      "text/plain": [
       "2024-01-01    False\n",
       "2024-01-02    False\n",
       "2024-01-03     True\n",
       "2024-01-04    False\n",
       "2024-01-05     True\n",
       "2024-01-06    False\n",
       "2024-01-07    False\n",
       "2024-01-08     True\n",
       "2024-01-09    False\n",
       "2024-01-10    False\n",
       "Freq: D, dtype: bool"
      ]
     },
     "execution_count": 3,
     "metadata": {},
     "output_type": "execute_result"
    }
   ],
   "source": [
    "miss = ts.isna()\n",
    "miss"
   ]
  },
  {
   "cell_type": "code",
   "execution_count": 4,
   "id": "9a431f59-9e2f-4953-93b6-ac1736db118e",
   "metadata": {},
   "outputs": [],
   "source": [
    "num_miss= miss.sum()"
   ]
  },
  {
   "cell_type": "code",
   "execution_count": 5,
   "id": "6332e405-5d12-421b-af61-ba5ed3e9af3e",
   "metadata": {},
   "outputs": [
    {
     "data": {
      "text/plain": [
       "3"
      ]
     },
     "execution_count": 5,
     "metadata": {},
     "output_type": "execute_result"
    }
   ],
   "source": [
    "num_miss"
   ]
  },
  {
   "cell_type": "code",
   "execution_count": 7,
   "id": "c100ad88-01f5-4015-81fd-51cad91264ed",
   "metadata": {},
   "outputs": [
    {
     "data": {
      "text/plain": [
       "DatetimeIndex(['2024-01-03', '2024-01-05', '2024-01-08'], dtype='datetime64[ns]', freq=None)"
      ]
     },
     "execution_count": 7,
     "metadata": {},
     "output_type": "execute_result"
    }
   ],
   "source": [
    "missing_indices = ts.index[miss]\n",
    "missing_indices"
   ]
  },
  {
   "cell_type": "code",
   "execution_count": 8,
   "id": "3729720e-e359-49e6-a537-7fc12fae3db2",
   "metadata": {},
   "outputs": [
    {
     "data": {
      "text/plain": [
       "2024-01-01     1.0\n",
       "2024-01-02     2.0\n",
       "2024-01-03     0.0\n",
       "2024-01-04     4.0\n",
       "2024-01-05     0.0\n",
       "2024-01-06     6.0\n",
       "2024-01-07     7.0\n",
       "2024-01-08     0.0\n",
       "2024-01-09     9.0\n",
       "2024-01-10    10.0\n",
       "Freq: D, dtype: float64"
      ]
     },
     "execution_count": 8,
     "metadata": {},
     "output_type": "execute_result"
    }
   ],
   "source": [
    "filled_value = ts.fillna(0)\n",
    "filled_value"
   ]
  },
  {
   "cell_type": "code",
   "execution_count": 9,
   "id": "155c5ba0-cb67-4a23-9bb8-c08c7f15b25f",
   "metadata": {},
   "outputs": [
    {
     "data": {
      "text/plain": [
       "2024-01-01     1.0\n",
       "2024-01-02     2.0\n",
       "2024-01-04     4.0\n",
       "2024-01-06     6.0\n",
       "2024-01-07     7.0\n",
       "2024-01-09     9.0\n",
       "2024-01-10    10.0\n",
       "dtype: float64"
      ]
     },
     "execution_count": 9,
     "metadata": {},
     "output_type": "execute_result"
    }
   ],
   "source": [
    "dropped= ts.dropna()\n",
    "dropped"
   ]
  },
  {
   "cell_type": "code",
   "execution_count": 19,
   "id": "79e8bba9-8349-4e1e-90ef-de25c58f0fd9",
   "metadata": {},
   "outputs": [],
   "source": [
    "dates= pd.date_range(start='2024-01-01', periods=20, freq= 'D')\n",
    "data= np.arange(20)"
   ]
  },
  {
   "cell_type": "code",
   "execution_count": 20,
   "id": "6f848a07-330a-4d0c-af2e-15c9d5d08a7e",
   "metadata": {},
   "outputs": [
    {
     "data": {
      "text/plain": [
       "2024-01-01     0\n",
       "2024-01-02     1\n",
       "2024-01-03     2\n",
       "2024-01-04     3\n",
       "2024-01-05     4\n",
       "2024-01-06     5\n",
       "2024-01-07     6\n",
       "2024-01-08     7\n",
       "2024-01-09     8\n",
       "2024-01-10     9\n",
       "2024-01-11    10\n",
       "2024-01-12    11\n",
       "2024-01-13    12\n",
       "2024-01-14    13\n",
       "2024-01-15    14\n",
       "2024-01-16    15\n",
       "2024-01-17    16\n",
       "2024-01-18    17\n",
       "2024-01-19    18\n",
       "2024-01-20    19\n",
       "Freq: D, dtype: int32"
      ]
     },
     "execution_count": 20,
     "metadata": {},
     "output_type": "execute_result"
    }
   ],
   "source": [
    "ts= pd.Series(data,index=dates)\n",
    "ts"
   ]
  },
  {
   "cell_type": "code",
   "execution_count": 21,
   "id": "52c81a64-e264-4e56-8320-c7192e1910b3",
   "metadata": {},
   "outputs": [
    {
     "data": {
      "text/plain": [
       "2024-01-01     NaN\n",
       "2024-01-02     NaN\n",
       "2024-01-03     NaN\n",
       "2024-01-04     NaN\n",
       "2024-01-05     NaN\n",
       "2024-01-06     0.0\n",
       "2024-01-07     1.0\n",
       "2024-01-08     2.0\n",
       "2024-01-09     3.0\n",
       "2024-01-10     4.0\n",
       "2024-01-11     5.0\n",
       "2024-01-12     6.0\n",
       "2024-01-13     7.0\n",
       "2024-01-14     8.0\n",
       "2024-01-15     9.0\n",
       "2024-01-16    10.0\n",
       "2024-01-17    11.0\n",
       "2024-01-18    12.0\n",
       "2024-01-19    13.0\n",
       "2024-01-20    14.0\n",
       "Freq: D, dtype: float64"
      ]
     },
     "execution_count": 21,
     "metadata": {},
     "output_type": "execute_result"
    }
   ],
   "source": [
    "shift_forward = ts.shift(5)\n",
    "shift_forward"
   ]
  },
  {
   "cell_type": "code",
   "execution_count": 22,
   "id": "b661147d-fd61-4e86-bcd8-e5da71f695e2",
   "metadata": {},
   "outputs": [
    {
     "data": {
      "text/plain": [
       "count    20.00000\n",
       "mean      9.50000\n",
       "std       5.91608\n",
       "min       0.00000\n",
       "25%       4.75000\n",
       "50%       9.50000\n",
       "75%      14.25000\n",
       "max      19.00000\n",
       "dtype: float64"
      ]
     },
     "execution_count": 22,
     "metadata": {},
     "output_type": "execute_result"
    }
   ],
   "source": [
    "ts.describe()\n"
   ]
  },
  {
   "cell_type": "code",
   "execution_count": 23,
   "id": "3ce96fb2-78ab-4af4-bedb-55d7e1525155",
   "metadata": {},
   "outputs": [
    {
     "name": "stdout",
     "output_type": "stream",
     "text": [
      "<class 'pandas.core.series.Series'>\n",
      "DatetimeIndex: 20 entries, 2024-01-01 to 2024-01-20\n",
      "Freq: D\n",
      "Series name: None\n",
      "Non-Null Count  Dtype\n",
      "--------------  -----\n",
      "20 non-null     int32\n",
      "dtypes: int32(1)\n",
      "memory usage: 240.0 bytes\n"
     ]
    }
   ],
   "source": [
    "ts.info()"
   ]
  },
  {
   "cell_type": "code",
   "execution_count": null,
   "id": "8504f69d-f5c0-48d4-a814-25bc5697d49b",
   "metadata": {},
   "outputs": [],
   "source": []
  },
  {
   "cell_type": "code",
   "execution_count": 26,
   "id": "8e7be990-2e70-4bbe-aea4-66a195a60550",
   "metadata": {},
   "outputs": [
    {
     "data": {
      "text/plain": [
       "2024-01-01     2.0\n",
       "2024-01-02     3.0\n",
       "2024-01-03     4.0\n",
       "2024-01-04     5.0\n",
       "2024-01-05     6.0\n",
       "2024-01-06     7.0\n",
       "2024-01-07     8.0\n",
       "2024-01-08     9.0\n",
       "2024-01-09    10.0\n",
       "2024-01-10    11.0\n",
       "2024-01-11    12.0\n",
       "2024-01-12    13.0\n",
       "2024-01-13    14.0\n",
       "2024-01-14    15.0\n",
       "2024-01-15    16.0\n",
       "2024-01-16    17.0\n",
       "2024-01-17    18.0\n",
       "2024-01-18    19.0\n",
       "2024-01-19     NaN\n",
       "2024-01-20     NaN\n",
       "Freq: D, dtype: float64"
      ]
     },
     "execution_count": 26,
     "metadata": {},
     "output_type": "execute_result"
    }
   ],
   "source": [
    "shift_back = ts.shift(-2)\n",
    "shift_back"
   ]
  },
  {
   "cell_type": "code",
   "execution_count": 28,
   "id": "3510ebb3-ca79-491c-986e-901ce00ffd09",
   "metadata": {},
   "outputs": [
    {
     "data": {
      "text/plain": [
       "2024-01-01     0.0\n",
       "2024-01-02     0.0\n",
       "2024-01-03     0.0\n",
       "2024-01-04     1.0\n",
       "2024-01-05     2.0\n",
       "2024-01-06     3.0\n",
       "2024-01-07     4.0\n",
       "2024-01-08     5.0\n",
       "2024-01-09     6.0\n",
       "2024-01-10     7.0\n",
       "2024-01-11     8.0\n",
       "2024-01-12     9.0\n",
       "2024-01-13    10.0\n",
       "2024-01-14    11.0\n",
       "2024-01-15    12.0\n",
       "2024-01-16    13.0\n",
       "2024-01-17    14.0\n",
       "2024-01-18    15.0\n",
       "2024-01-19    16.0\n",
       "2024-01-20    17.0\n",
       "Freq: D, dtype: float64"
      ]
     },
     "execution_count": 28,
     "metadata": {},
     "output_type": "execute_result"
    }
   ],
   "source": [
    "shift_forward_fill = ts.shift(2).fillna(0)\n",
    "shift_forward_fill"
   ]
  },
  {
   "cell_type": "code",
   "execution_count": 29,
   "id": "2a7778dd-f5f7-4f9a-a823-632e57b395db",
   "metadata": {},
   "outputs": [
    {
     "data": {
      "text/plain": [
       "2024-01-03     0.0\n",
       "2024-01-04     1.0\n",
       "2024-01-05     2.0\n",
       "2024-01-06     3.0\n",
       "2024-01-07     4.0\n",
       "2024-01-08     5.0\n",
       "2024-01-09     6.0\n",
       "2024-01-10     7.0\n",
       "2024-01-11     8.0\n",
       "2024-01-12     9.0\n",
       "2024-01-13    10.0\n",
       "2024-01-14    11.0\n",
       "2024-01-15    12.0\n",
       "2024-01-16    13.0\n",
       "2024-01-17    14.0\n",
       "2024-01-18    15.0\n",
       "2024-01-19    16.0\n",
       "2024-01-20    17.0\n",
       "Freq: D, dtype: float64"
      ]
     },
     "execution_count": 29,
     "metadata": {},
     "output_type": "execute_result"
    }
   ],
   "source": [
    "dropped = ts.shift(2).dropna()\n",
    "dropped"
   ]
  },
  {
   "cell_type": "code",
   "execution_count": null,
   "id": "5de6403a-b135-489f-b24e-b73ce122e5a7",
   "metadata": {},
   "outputs": [],
   "source": []
  }
 ],
 "metadata": {
  "kernelspec": {
   "display_name": "Python 3 (ipykernel)",
   "language": "python",
   "name": "python3"
  },
  "language_info": {
   "codemirror_mode": {
    "name": "ipython",
    "version": 3
   },
   "file_extension": ".py",
   "mimetype": "text/x-python",
   "name": "python",
   "nbconvert_exporter": "python",
   "pygments_lexer": "ipython3",
   "version": "3.12.4"
  }
 },
 "nbformat": 4,
 "nbformat_minor": 5
}
