{
 "cells": [
  {
   "cell_type": "code",
   "execution_count": 1,
   "id": "df33849a-cc8c-44f0-9850-fb147f5f2fb6",
   "metadata": {},
   "outputs": [],
   "source": [
    "import pandas as pd"
   ]
  },
  {
   "cell_type": "code",
   "execution_count": 3,
   "id": "5db74e6c-a35a-4f0a-8030-d0ce6ccc2821",
   "metadata": {},
   "outputs": [
    {
     "name": "stdout",
     "output_type": "stream",
     "text": [
      "   id branch city cust gender prod  price  quantity  total  date  time payment\n",
      "0   1      a    x    m      f    h     10         1     10     6    10       e\n",
      "1   2      b    y    n      f    e     20         2     20     7    11       c\n",
      "2   3      c    z    n      m    l     30         3     30     8    12      cr\n",
      "3   4      e    v    m      m    h     50         4     45     9     1      cr\n",
      "4   5      f    w    n      f    e     80         5     60    11     2       c\n",
      "5   6      g    u    m      m    l     90         6     30    13     3       e\n"
     ]
    }
   ],
   "source": [
    "data = pd.read_csv('inspection.csv')\n",
    "print(data)"
   ]
  },
  {
   "cell_type": "code",
   "execution_count": 4,
   "id": "826b8a8a-a929-46c3-8e2c-0a13853f8acd",
   "metadata": {},
   "outputs": [
    {
     "name": "stdout",
     "output_type": "stream",
     "text": [
      "   id branch city cust gender prod  price  quantity  total  date  time payment\n",
      "0   1      a    x    m      f    h     10         1     10     6    10       e\n",
      "1   2      b    y    n      f    e     20         2     20     7    11       c\n",
      "2   3      c    z    n      m    l     30         3     30     8    12      cr\n",
      "3   4      e    v    m      m    h     50         4     45     9     1      cr\n",
      "4   5      f    w    n      f    e     80         5     60    11     2       c\n"
     ]
    }
   ],
   "source": [
    "print(data.head())"
   ]
  },
  {
   "cell_type": "code",
   "execution_count": 6,
   "id": "2b84e96e-031c-4ab7-b001-e24af05b5cb1",
   "metadata": {},
   "outputs": [
    {
     "name": "stdout",
     "output_type": "stream",
     "text": [
      "   id prod  total\n",
      "0   1    h     10\n",
      "1   2    e     20\n",
      "2   3    l     30\n",
      "3   4    h     45\n",
      "4   5    e     60\n",
      "5   6    l     30\n"
     ]
    }
   ],
   "source": [
    "print(data[['id','prod','total']])"
   ]
  },
  {
   "cell_type": "code",
   "execution_count": 19,
   "id": "e89290d7-f91d-44fa-890a-b98c24fbca4c",
   "metadata": {},
   "outputs": [
    {
     "name": "stdout",
     "output_type": "stream",
     "text": [
      "   id prod\n",
      "0   1    h\n",
      "1   2    e\n",
      "2   3    l\n",
      "3   4    h\n",
      "4   5    e\n",
      "5   6    l\n"
     ]
    }
   ],
   "source": [
    "print(data.loc[0:10, ['id','prod']])"
   ]
  },
  {
   "cell_type": "code",
   "execution_count": 16,
   "id": "d18006a0-9dbe-4aee-8757-dfe7cb30769a",
   "metadata": {},
   "outputs": [
    {
     "name": "stdout",
     "output_type": "stream",
     "text": [
      "Empty DataFrame\n",
      "Columns: [id, branch, city, cust, gender, prod, price, quantity, total, date, time, payment]\n",
      "Index: []\n"
     ]
    }
   ],
   "source": [
    "print(data[(data['city']=='y') & (data['payment']=='e') ])"
   ]
  },
  {
   "cell_type": "code",
   "execution_count": 37,
   "id": "0e9e05ac-c67e-43c1-97b9-6889a289d9e8",
   "metadata": {},
   "outputs": [
    {
     "name": "stdout",
     "output_type": "stream",
     "text": [
      "   id branch city\n",
      "0   1      a    x\n",
      "1   2      b    y\n",
      "2   3      c    z\n",
      "3   4      e    v\n"
     ]
    }
   ],
   "source": [
    "print(data.iloc[0:4,0:3])"
   ]
  },
  {
   "cell_type": "code",
   "execution_count": 40,
   "id": "85aee440-57ae-4264-921a-7ecb1f8d15b0",
   "metadata": {},
   "outputs": [
    {
     "name": "stdout",
     "output_type": "stream",
     "text": [
      "   id branch gender\n",
      "5   6      g      m\n"
     ]
    }
   ],
   "source": [
    "print(data.loc[5:10,['id','branch','gender']])"
   ]
  },
  {
   "cell_type": "code",
   "execution_count": null,
   "id": "64a0a7c0-d3c9-4d46-88a4-a46fd0516582",
   "metadata": {},
   "outputs": [],
   "source": []
  }
 ],
 "metadata": {
  "kernelspec": {
   "display_name": "Python 3 (ipykernel)",
   "language": "python",
   "name": "python3"
  },
  "language_info": {
   "codemirror_mode": {
    "name": "ipython",
    "version": 3
   },
   "file_extension": ".py",
   "mimetype": "text/x-python",
   "name": "python",
   "nbconvert_exporter": "python",
   "pygments_lexer": "ipython3",
   "version": "3.12.4"
  }
 },
 "nbformat": 4,
 "nbformat_minor": 5
}
