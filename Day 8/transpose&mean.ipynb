{
 "cells": [
  {
   "cell_type": "code",
   "execution_count": 29,
   "id": "38ce1186-62cf-45d3-9b68-0e973e4d0488",
   "metadata": {},
   "outputs": [],
   "source": [
    "import numpy as np"
   ]
  },
  {
   "cell_type": "code",
   "execution_count": 32,
   "id": "e9e5e57f-8a78-4f06-a380-52f5923bcbfd",
   "metadata": {},
   "outputs": [
    {
     "name": "stdout",
     "output_type": "stream",
     "text": [
      "[[93 74 40]\n",
      " [61 33 45]\n",
      " [38 47 43]\n",
      " [55 75 34]\n",
      " [19 25 50]]\n"
     ]
    }
   ],
   "source": [
    "arr2 = np.random.randint(10,100,size=(5,3))\n",
    "print(arr2)"
   ]
  },
  {
   "cell_type": "code",
   "execution_count": 35,
   "id": "7aba0964-ee3f-455f-ac5f-3d2259f60e36",
   "metadata": {},
   "outputs": [
    {
     "name": "stdout",
     "output_type": "stream",
     "text": [
      "[[93 61 38 55 19]\n",
      " [74 33 47 75 25]\n",
      " [40 45 43 34 50]]\n"
     ]
    }
   ],
   "source": [
    "transpose = arr2.T\n",
    "print(transpose)"
   ]
  },
  {
   "cell_type": "code",
   "execution_count": null,
   "id": "7ed7c7cc-cb4a-42bf-a11d-c4b6624b7d34",
   "metadata": {},
   "outputs": [],
   "source": [
    "print(\"Mean of original array :\",np.mean(arr2))\n",
    "print(\"Mean of Transpose :\",np.mean(transpose))"
   ]
  },
  {
   "cell_type": "code",
   "execution_count": null,
   "id": "89487739-a7c8-4ef5-9b87-c9e10507178c",
   "metadata": {},
   "outputs": [],
   "source": []
  }
 ],
 "metadata": {
  "kernelspec": {
   "display_name": "Python 3 (ipykernel)",
   "language": "python",
   "name": "python3"
  },
  "language_info": {
   "codemirror_mode": {
    "name": "ipython",
    "version": 3
   },
   "file_extension": ".py",
   "mimetype": "text/x-python",
   "name": "python",
   "nbconvert_exporter": "python",
   "pygments_lexer": "ipython3",
   "version": "3.12.4"
  }
 },
 "nbformat": 4,
 "nbformat_minor": 5
}
