{
 "cells": [
  {
   "cell_type": "code",
   "execution_count": 16,
   "id": "74f9b7b8-5c47-4399-8768-ea4e77f2df68",
   "metadata": {},
   "outputs": [],
   "source": [
    "from scipy.linalg import inv,det\n",
    "import numpy as np"
   ]
  },
  {
   "cell_type": "code",
   "execution_count": 17,
   "id": "bc9bbc4d-4efc-46bf-addd-cd219b56c3b9",
   "metadata": {},
   "outputs": [
    {
     "name": "stdout",
     "output_type": "stream",
     "text": [
      "Determinant :  9.999999999999998\n",
      "Inverse\n",
      " [[ 0.6 -0.7]\n",
      " [-0.2  0.4]]\n"
     ]
    }
   ],
   "source": [
    "matrix = np.array([[4,7],[2,6]])\n",
    "det = det(matrix)\n",
    "print(\"Determinant : \",det)\n",
    "inv = inv(matrix)\n",
    "print(\"Inverse\\n\",inv)"
   ]
  },
  {
   "cell_type": "code",
   "execution_count": null,
   "id": "383d6bc8-56bb-4bc4-9085-4e012936ff68",
   "metadata": {},
   "outputs": [],
   "source": []
  }
 ],
 "metadata": {
  "kernelspec": {
   "display_name": "Python 3 (ipykernel)",
   "language": "python",
   "name": "python3"
  },
  "language_info": {
   "codemirror_mode": {
    "name": "ipython",
    "version": 3
   },
   "file_extension": ".py",
   "mimetype": "text/x-python",
   "name": "python",
   "nbconvert_exporter": "python",
   "pygments_lexer": "ipython3",
   "version": "3.12.4"
  }
 },
 "nbformat": 4,
 "nbformat_minor": 5
}
