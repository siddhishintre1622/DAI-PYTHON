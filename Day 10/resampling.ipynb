{
 "cells": [
  {
   "cell_type": "code",
   "execution_count": 1,
   "id": "c5b7e170-043c-48a0-8ac5-2fa5745dd217",
   "metadata": {},
   "outputs": [],
   "source": [
    "import numpy as np\n",
    "import pandas as pd"
   ]
  },
  {
   "cell_type": "code",
   "execution_count": 2,
   "id": "fc2ef16e-e000-4db7-982c-173356965d5b",
   "metadata": {},
   "outputs": [],
   "source": [
    "dates = pd.date_range(start= '2024-01-01', periods=10, freq= 'D')"
   ]
  },
  {
   "cell_type": "code",
   "execution_count": 9,
   "id": "33111864-fd31-45d2-941b-585be7ff696b",
   "metadata": {},
   "outputs": [],
   "source": [
    "data = np.arange(10)"
   ]
  },
  {
   "cell_type": "code",
   "execution_count": 7,
   "id": "afb35238-9727-4a62-a0fd-5fb7b325f8d0",
   "metadata": {},
   "outputs": [],
   "source": [
    "ts = pd.Series(data, index= dates)"
   ]
  },
  {
   "cell_type": "code",
   "execution_count": 8,
   "id": "45217bbd-b27c-4da9-a2a6-d296b022df57",
   "metadata": {},
   "outputs": [
    {
     "data": {
      "text/plain": [
       "2024-01-01    0\n",
       "2024-01-02    1\n",
       "2024-01-03    2\n",
       "2024-01-04    3\n",
       "2024-01-05    4\n",
       "2024-01-06    5\n",
       "2024-01-07    6\n",
       "2024-01-08    7\n",
       "2024-01-09    8\n",
       "2024-01-10    9\n",
       "Freq: D, dtype: int32"
      ]
     },
     "execution_count": 8,
     "metadata": {},
     "output_type": "execute_result"
    }
   ],
   "source": [
    "ts"
   ]
  },
  {
   "cell_type": "code",
   "execution_count": 10,
   "id": "45ff9a93-78fa-4273-becf-21787ebeadd6",
   "metadata": {},
   "outputs": [],
   "source": [
    "wd = ts.resample('W').mean()"
   ]
  },
  {
   "cell_type": "code",
   "execution_count": 11,
   "id": "6b4f5bac-f925-4e4b-8aaa-ba6676f4dc78",
   "metadata": {},
   "outputs": [
    {
     "data": {
      "text/plain": [
       "2024-01-07    3.0\n",
       "2024-01-14    8.0\n",
       "Freq: W-SUN, dtype: float64"
      ]
     },
     "execution_count": 11,
     "metadata": {},
     "output_type": "execute_result"
    }
   ],
   "source": [
    "wd"
   ]
  },
  {
   "cell_type": "code",
   "execution_count": 12,
   "id": "a2777193-d975-4a61-8455-219ee1c50184",
   "metadata": {},
   "outputs": [
    {
     "data": {
      "text/plain": [
       "2024-01-01    NaN\n",
       "2024-01-02    NaN\n",
       "2024-01-03    1.0\n",
       "2024-01-04    2.0\n",
       "2024-01-05    3.0\n",
       "2024-01-06    4.0\n",
       "2024-01-07    5.0\n",
       "2024-01-08    6.0\n",
       "2024-01-09    7.0\n",
       "2024-01-10    8.0\n",
       "Freq: D, dtype: float64"
      ]
     },
     "execution_count": 12,
     "metadata": {},
     "output_type": "execute_result"
    }
   ],
   "source": [
    "rm = ts.rolling(window = 3).mean()\n",
    "rm"
   ]
  },
  {
   "cell_type": "code",
   "execution_count": 17,
   "id": "9378b60c-82be-4323-96fd-9d181641fa80",
   "metadata": {},
   "outputs": [
    {
     "data": {
      "text/plain": [
       "2024-01-01    0.0\n",
       "2024-01-02    1.0\n",
       "2024-01-03    2.0\n",
       "2024-01-04    NaN\n",
       "2024-01-05    4.0\n",
       "2024-01-06    5.0\n",
       "2024-01-07    6.0\n",
       "2024-01-08    7.0\n",
       "2024-01-09    8.0\n",
       "2024-01-10    9.0\n",
       "Freq: D, dtype: float64"
      ]
     },
     "execution_count": 17,
     "metadata": {},
     "output_type": "execute_result"
    }
   ],
   "source": [
    "ts['2024-01-04'] =np.nan\n",
    "ts"
   ]
  },
  {
   "cell_type": "code",
   "execution_count": 16,
   "id": "5af99d89-291f-4b25-a447-9bc990027b18",
   "metadata": {},
   "outputs": [
    {
     "data": {
      "text/plain": [
       "2024-01-01    0.0\n",
       "2024-01-02    1.0\n",
       "2024-01-03    2.0\n",
       "2024-01-04    2.0\n",
       "2024-01-05    4.0\n",
       "2024-01-06    5.0\n",
       "2024-01-07    6.0\n",
       "2024-01-08    7.0\n",
       "2024-01-09    8.0\n",
       "2024-01-10    9.0\n",
       "Freq: D, dtype: float64"
      ]
     },
     "execution_count": 16,
     "metadata": {},
     "output_type": "execute_result"
    }
   ],
   "source": [
    "fs = ts.ffill()\n",
    "fs"
   ]
  },
  {
   "cell_type": "code",
   "execution_count": 18,
   "id": "34d3853b-cf2a-45e4-8115-8546b8716efd",
   "metadata": {},
   "outputs": [
    {
     "data": {
      "text/plain": [
       "2024-01-07    3.0\n",
       "2024-01-14    8.0\n",
       "Freq: W-SUN, dtype: float64"
      ]
     },
     "execution_count": 18,
     "metadata": {},
     "output_type": "execute_result"
    }
   ],
   "source": [
    "ws = ts.resample('W').mean()\n",
    "ws"
   ]
  },
  {
   "cell_type": "code",
   "execution_count": 19,
   "id": "a6f746eb-13b1-4e57-a128-a836a1ba973f",
   "metadata": {},
   "outputs": [
    {
     "data": {
      "text/plain": [
       "2024-01-01    0.0\n",
       "2024-01-02    1.0\n",
       "2024-01-03    2.0\n",
       "2024-01-04    4.0\n",
       "2024-01-05    4.0\n",
       "2024-01-06    5.0\n",
       "2024-01-07    6.0\n",
       "2024-01-08    7.0\n",
       "2024-01-09    8.0\n",
       "2024-01-10    9.0\n",
       "Freq: D, dtype: float64"
      ]
     },
     "execution_count": 19,
     "metadata": {},
     "output_type": "execute_result"
    }
   ],
   "source": [
    "fd = ts.bfill()\n",
    "fd"
   ]
  },
  {
   "cell_type": "code",
   "execution_count": 20,
   "id": "b752a26a-ad6a-41e5-800f-55b3d6610642",
   "metadata": {},
   "outputs": [
    {
     "data": {
      "text/plain": [
       "2024-01-01    0.0\n",
       "2024-01-02    1.0\n",
       "2024-01-03    2.0\n",
       "2024-01-04    3.0\n",
       "2024-01-05    4.0\n",
       "2024-01-06    5.0\n",
       "2024-01-07    6.0\n",
       "2024-01-08    7.0\n",
       "2024-01-09    8.0\n",
       "2024-01-10    9.0\n",
       "Freq: D, dtype: float64"
      ]
     },
     "execution_count": 20,
     "metadata": {},
     "output_type": "execute_result"
    }
   ],
   "source": [
    "interpolated = ts.interpolate()\n",
    "interpolated"
   ]
  },
  {
   "cell_type": "code",
   "execution_count": null,
   "id": "6c9504e2-2c45-4d59-b498-bea80990768c",
   "metadata": {},
   "outputs": [],
   "source": []
  }
 ],
 "metadata": {
  "kernelspec": {
   "display_name": "Python 3 (ipykernel)",
   "language": "python",
   "name": "python3"
  },
  "language_info": {
   "codemirror_mode": {
    "name": "ipython",
    "version": 3
   },
   "file_extension": ".py",
   "mimetype": "text/x-python",
   "name": "python",
   "nbconvert_exporter": "python",
   "pygments_lexer": "ipython3",
   "version": "3.12.4"
  }
 },
 "nbformat": 4,
 "nbformat_minor": 5
}
