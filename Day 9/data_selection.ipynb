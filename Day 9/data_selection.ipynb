{
 "cells": [
  {
   "cell_type": "code",
   "execution_count": 2,
   "id": "e7e2ce13-00e8-42c1-b1da-cf3446fd6a47",
   "metadata": {},
   "outputs": [],
   "source": [
    "import pandas as pd"
   ]
  },
  {
   "cell_type": "code",
   "execution_count": 6,
   "id": "9de96c4a-7067-497a-926e-47f2f56c9b4f",
   "metadata": {},
   "outputs": [],
   "source": [
    "data = {\n",
    "    'Name': [ 'A', 'B', 'C', 'D', 'E'],\n",
    "    'Age': [25,30,35,40,22],\n",
    "    'City': ['F','G','H','I','J'],\n",
    "    'Score':[85,50,92,80,30]\n",
    "}\n",
    "df = pd.DataFrame(data)"
   ]
  },
  {
   "cell_type": "code",
   "execution_count": 7,
   "id": "ab55dd33-7fd6-4abd-bbfb-2881dae67414",
   "metadata": {},
   "outputs": [
    {
     "name": "stdout",
     "output_type": "stream",
     "text": [
      "Name      A\n",
      "Age      25\n",
      "City      F\n",
      "Score    85\n",
      "Name: 0, dtype: object\n"
     ]
    }
   ],
   "source": [
    "print(df.iloc[0])"
   ]
  },
  {
   "cell_type": "code",
   "execution_count": 8,
   "id": "25333241-87e1-48c7-8088-0ac76f372c70",
   "metadata": {},
   "outputs": [
    {
     "name": "stdout",
     "output_type": "stream",
     "text": [
      "  Name  Age City  Score\n",
      "0    A   25    F     85\n",
      "1    B   30    G     50\n",
      "2    C   35    H     92\n"
     ]
    }
   ],
   "source": [
    "print(df.iloc[:3])"
   ]
  },
  {
   "cell_type": "code",
   "execution_count": 9,
   "id": "7e624fd0-d10d-4daa-8f40-e46a76b66d60",
   "metadata": {},
   "outputs": [
    {
     "name": "stdout",
     "output_type": "stream",
     "text": [
      "0    A\n",
      "1    B\n",
      "2    C\n",
      "3    D\n",
      "4    E\n",
      "Name: Name, dtype: object\n"
     ]
    }
   ],
   "source": [
    "print(df['Name'])"
   ]
  },
  {
   "cell_type": "code",
   "execution_count": 10,
   "id": "4183bb3e-42f7-476e-b29c-cf6316d98041",
   "metadata": {},
   "outputs": [
    {
     "name": "stdout",
     "output_type": "stream",
     "text": [
      "Name      C\n",
      "Age      35\n",
      "City      H\n",
      "Score    92\n",
      "Name: 2, dtype: object\n"
     ]
    }
   ],
   "source": [
    "print(df.loc[2])"
   ]
  },
  {
   "cell_type": "code",
   "execution_count": 11,
   "id": "2e2c4bd1-9d6f-43f3-a087-7bf2cf0d2e3c",
   "metadata": {},
   "outputs": [
    {
     "name": "stdout",
     "output_type": "stream",
     "text": [
      "  Name  Age City  Score\n",
      "2    C   35    H     92\n",
      "3    D   40    I     80\n"
     ]
    }
   ],
   "source": [
    "print(df.loc[df['Age'] > 30])"
   ]
  },
  {
   "cell_type": "code",
   "execution_count": 14,
   "id": "7a336f19-1ff2-452a-9664-3830881a9e4d",
   "metadata": {},
   "outputs": [
    {
     "name": "stdout",
     "output_type": "stream",
     "text": [
      "0    False\n",
      "1    False\n",
      "2     True\n",
      "3    False\n",
      "4    False\n",
      "Name: Score, dtype: bool\n"
     ]
    }
   ],
   "source": [
    "print(df['Score'] > 85)"
   ]
  },
  {
   "cell_type": "code",
   "execution_count": 15,
   "id": "004315f9-8dfa-4450-a690-c9c994b216ed",
   "metadata": {},
   "outputs": [
    {
     "name": "stdout",
     "output_type": "stream",
     "text": [
      "  Name  Age City  Score\n",
      "2    C   35    H     92\n"
     ]
    }
   ],
   "source": [
    "print(df[df['Score']>85])"
   ]
  },
  {
   "cell_type": "code",
   "execution_count": 16,
   "id": "3e7dd2f9-4471-439e-9cbc-5287f6d59406",
   "metadata": {},
   "outputs": [
    {
     "name": "stdout",
     "output_type": "stream",
     "text": [
      "0    False\n",
      "1    False\n",
      "2     True\n",
      "3    False\n",
      "4    False\n",
      "Name: Score, dtype: bool\n"
     ]
    }
   ],
   "source": [
    "print(df['Score']>85)"
   ]
  },
  {
   "cell_type": "code",
   "execution_count": 19,
   "id": "930cf118-89b1-4d9b-8e0e-2aa712ab293c",
   "metadata": {},
   "outputs": [
    {
     "name": "stdout",
     "output_type": "stream",
     "text": [
      "  Name  Age City  Score\n",
      "1    B   30    G     50\n",
      "2    C   35    H     92\n"
     ]
    }
   ],
   "source": [
    "print(df[df['City'].isin(['G','H'])])"
   ]
  },
  {
   "cell_type": "code",
   "execution_count": 20,
   "id": "a78c4c70-1633-45ed-97e4-f582e225846f",
   "metadata": {},
   "outputs": [
    {
     "name": "stdout",
     "output_type": "stream",
     "text": [
      "85\n"
     ]
    }
   ],
   "source": [
    "print(df.at[0,'Score'])"
   ]
  },
  {
   "cell_type": "code",
   "execution_count": null,
   "id": "4a3dd44b-6ffc-4ac4-85fb-4a4ca8132a83",
   "metadata": {},
   "outputs": [],
   "source": [
    "print"
   ]
  }
 ],
 "metadata": {
  "kernelspec": {
   "display_name": "Python 3 (ipykernel)",
   "language": "python",
   "name": "python3"
  },
  "language_info": {
   "codemirror_mode": {
    "name": "ipython",
    "version": 3
   },
   "file_extension": ".py",
   "mimetype": "text/x-python",
   "name": "python",
   "nbconvert_exporter": "python",
   "pygments_lexer": "ipython3",
   "version": "3.12.4"
  }
 },
 "nbformat": 4,
 "nbformat_minor": 5
}
