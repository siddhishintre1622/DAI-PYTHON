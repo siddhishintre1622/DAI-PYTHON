{
 "cells": [
  {
   "cell_type": "code",
   "execution_count": 1,
   "id": "eeffe1c5-82f8-44ab-aa25-0a572e4f0ad0",
   "metadata": {},
   "outputs": [],
   "source": [
    "import numpy as np"
   ]
  },
  {
   "cell_type": "code",
   "execution_count": 14,
   "id": "a9aeae17-543e-4885-9a28-0705ac85ce6b",
   "metadata": {},
   "outputs": [],
   "source": [
    "l1 = np.array([1,2,3,4,5])\n",
    "l2 = np.array([6,7,8,9,10])\n",
    "l3 = np.array([11,12,13,14,15])\n",
    "l4 = np.array([16,17,18,19,20])"
   ]
  },
  {
   "cell_type": "code",
   "execution_count": 16,
   "id": "7c578046-4324-45ef-94b9-848ea147473a",
   "metadata": {},
   "outputs": [
    {
     "data": {
      "text/plain": [
       "array([ 1,  2,  3,  4,  5,  6,  7,  8,  9, 10])"
      ]
     },
     "execution_count": 16,
     "metadata": {},
     "output_type": "execute_result"
    }
   ],
   "source": [
    "arr1 = np.concatenate((l1,l2))\n",
    "arr1"
   ]
  },
  {
   "cell_type": "code",
   "execution_count": 17,
   "id": "15ad113c-599e-4dc8-bacb-89608389a220",
   "metadata": {},
   "outputs": [
    {
     "data": {
      "text/plain": [
       "array([11, 12, 13, 14, 15, 16, 17, 18, 19, 20])"
      ]
     },
     "execution_count": 17,
     "metadata": {},
     "output_type": "execute_result"
    }
   ],
   "source": [
    "arr2 = np.concatenate((l3,l4))\n",
    "arr2"
   ]
  },
  {
   "cell_type": "code",
   "execution_count": 18,
   "id": "7aafbf0b-bdbf-4c25-b124-f818d4a0949a",
   "metadata": {},
   "outputs": [
    {
     "data": {
      "text/plain": [
       "55"
      ]
     },
     "execution_count": 18,
     "metadata": {},
     "output_type": "execute_result"
    }
   ],
   "source": [
    "np.sum(arr1)"
   ]
  },
  {
   "cell_type": "code",
   "execution_count": 32,
   "id": "523e0757-698f-43ad-b312-7668dcb370f0",
   "metadata": {},
   "outputs": [
    {
     "name": "stdout",
     "output_type": "stream",
     "text": [
      "Addition\n",
      "12\n",
      "14\n",
      "16\n",
      "18\n",
      "20\n",
      "22\n",
      "24\n",
      "26\n",
      "28\n",
      "30\n"
     ]
    },
    {
     "data": {
      "text/plain": [
       "array([12, 14, 16, 18, 20, 22, 24, 26, 28, 30])"
      ]
     },
     "execution_count": 32,
     "metadata": {},
     "output_type": "execute_result"
    }
   ],
   "source": [
    "print(\"Addition\")\n",
    "for i in range(len(arr1)):\n",
    "    sum = arr1[i] + arr2[i]\n",
    "    print(sum)\n",
    "\n",
    "np.add(arr1,arr2)"
   ]
  },
  {
   "cell_type": "code",
   "execution_count": 33,
   "id": "10cff561-0c10-406f-95b2-1b6e78203256",
   "metadata": {},
   "outputs": [
    {
     "name": "stdout",
     "output_type": "stream",
     "text": [
      "Subtraction\n",
      "-10\n",
      "-10\n",
      "-10\n",
      "-10\n",
      "-10\n",
      "-10\n",
      "-10\n",
      "-10\n",
      "-10\n",
      "-10\n"
     ]
    },
    {
     "data": {
      "text/plain": [
       "array([-10, -10, -10, -10, -10, -10, -10, -10, -10, -10])"
      ]
     },
     "execution_count": 33,
     "metadata": {},
     "output_type": "execute_result"
    }
   ],
   "source": [
    "print(\"Subtraction\")\n",
    "for i in range(len(arr1)):\n",
    "    sub = arr1[i] - arr2[i]\n",
    "    print(sub)\n",
    "\n",
    "np.subtract(arr1,arr2)"
   ]
  },
  {
   "cell_type": "code",
   "execution_count": 36,
   "id": "1adb12ab-ee24-4513-adbe-8a2f7bafa354",
   "metadata": {},
   "outputs": [
    {
     "name": "stdout",
     "output_type": "stream",
     "text": [
      "Multilpication\n",
      "11\n",
      "24\n",
      "39\n",
      "56\n",
      "75\n",
      "96\n",
      "119\n",
      "144\n",
      "171\n",
      "200\n"
     ]
    },
    {
     "data": {
      "text/plain": [
       "array([ 11,  24,  39,  56,  75,  96, 119, 144, 171, 200])"
      ]
     },
     "execution_count": 36,
     "metadata": {},
     "output_type": "execute_result"
    }
   ],
   "source": [
    "print(\"Multilpication\")\n",
    "for i in range(len(arr1)):\n",
    "    mul = arr1[i] * arr2[i]\n",
    "    print(mul)\n",
    "\n",
    "\n",
    "np.multiply(arr1,arr2)"
   ]
  },
  {
   "cell_type": "code",
   "execution_count": 38,
   "id": "ac17e1d3-4f87-43f3-af0d-bd3ceb0dfbb5",
   "metadata": {},
   "outputs": [
    {
     "name": "stdout",
     "output_type": "stream",
     "text": [
      "Division\n",
      "0.09090909090909091\n",
      "0.16666666666666666\n",
      "0.23076923076923078\n",
      "0.2857142857142857\n",
      "0.3333333333333333\n",
      "0.375\n",
      "0.4117647058823529\n",
      "0.4444444444444444\n",
      "0.47368421052631576\n",
      "0.5\n"
     ]
    },
    {
     "data": {
      "text/plain": [
       "array([0.09090909, 0.16666667, 0.23076923, 0.28571429, 0.33333333,\n",
       "       0.375     , 0.41176471, 0.44444444, 0.47368421, 0.5       ])"
      ]
     },
     "execution_count": 38,
     "metadata": {},
     "output_type": "execute_result"
    }
   ],
   "source": [
    "print(\"Division\")\n",
    "for i in range(len(arr1)):\n",
    "    div = arr1[i] / arr2[i]\n",
    "    print(div)\n",
    "         \n",
    "np.divide(arr1,arr2)"
   ]
  },
  {
   "cell_type": "code",
   "execution_count": 39,
   "id": "2de99f34-2366-45bd-a36b-8bf3ae227962",
   "metadata": {},
   "outputs": [
    {
     "data": {
      "text/plain": [
       "array([2.71828183e+00, 7.38905610e+00, 2.00855369e+01, 5.45981500e+01,\n",
       "       1.48413159e+02, 4.03428793e+02, 1.09663316e+03, 2.98095799e+03,\n",
       "       8.10308393e+03, 2.20264658e+04])"
      ]
     },
     "execution_count": 39,
     "metadata": {},
     "output_type": "execute_result"
    }
   ],
   "source": [
    "np.exp(arr1)"
   ]
  },
  {
   "cell_type": "code",
   "execution_count": null,
   "id": "47e92af8-5995-470e-bbc8-73217caea17a",
   "metadata": {},
   "outputs": [],
   "source": []
  },
  {
   "cell_type": "code",
   "execution_count": null,
   "id": "5f96b967-5f55-4f7a-b364-97d56f8b04db",
   "metadata": {},
   "outputs": [],
   "source": []
  },
  {
   "cell_type": "code",
   "execution_count": null,
   "id": "42dea5a1-ad90-4bc6-9439-71d0c4f78277",
   "metadata": {},
   "outputs": [],
   "source": []
  }
 ],
 "metadata": {
  "kernelspec": {
   "display_name": "Python 3 (ipykernel)",
   "language": "python",
   "name": "python3"
  },
  "language_info": {
   "codemirror_mode": {
    "name": "ipython",
    "version": 3
   },
   "file_extension": ".py",
   "mimetype": "text/x-python",
   "name": "python",
   "nbconvert_exporter": "python",
   "pygments_lexer": "ipython3",
   "version": "3.12.4"
  }
 },
 "nbformat": 4,
 "nbformat_minor": 5
}
