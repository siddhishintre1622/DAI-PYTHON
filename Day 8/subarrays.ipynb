{
 "cells": [
  {
   "cell_type": "code",
   "execution_count": 1,
   "id": "99f57d24-11a4-42f4-9ec3-130877647d5f",
   "metadata": {},
   "outputs": [],
   "source": [
    "import numpy as np"
   ]
  },
  {
   "cell_type": "code",
   "execution_count": 3,
   "id": "3f6fd2bf-897d-4a5e-abba-92cfa6562019",
   "metadata": {},
   "outputs": [
    {
     "name": "stdout",
     "output_type": "stream",
     "text": [
      "[[95 53 96 60 94]\n",
      " [70 50 99 95 98]\n",
      " [99 95 82 79 61]\n",
      " [82 78 95 63 67]\n",
      " [73 59 51 96 62]]\n"
     ]
    }
   ],
   "source": [
    "arr2 = np.random.randint(50,100,size=(5,5))\n",
    "print(arr2)"
   ]
  },
  {
   "cell_type": "code",
   "execution_count": 4,
   "id": "8a825b30-d6a1-485b-915e-91acbff9cb3d",
   "metadata": {},
   "outputs": [
    {
     "name": "stdout",
     "output_type": "stream",
     "text": [
      "[[50 99 95]\n",
      " [95 82 79]\n",
      " [78 95 63]]\n"
     ]
    }
   ],
   "source": [
    "new_arr = arr2[1:4, 1:4]\n",
    "print(new_arr)"
   ]
  },
  {
   "cell_type": "code",
   "execution_count": 6,
   "id": "e4ca98c1-7c74-44b0-9d74-ffc14406af00",
   "metadata": {},
   "outputs": [
    {
     "name": "stdout",
     "output_type": "stream",
     "text": [
      "[[95 53 96 60 94]\n",
      " [70  0  0  0 98]\n",
      " [99  0  0  0 61]\n",
      " [82  0  0  0 67]\n",
      " [73 59 51 96 62]]\n"
     ]
    }
   ],
   "source": [
    "arr2[1:4, 1:4] = 0\n",
    "print(arr2)"
   ]
  },
  {
   "cell_type": "code",
   "execution_count": null,
   "id": "b0cd5e3b-57c3-453d-b987-1aaf51963886",
   "metadata": {},
   "outputs": [],
   "source": []
  }
 ],
 "metadata": {
  "kernelspec": {
   "display_name": "Python 3 (ipykernel)",
   "language": "python",
   "name": "python3"
  },
  "language_info": {
   "codemirror_mode": {
    "name": "ipython",
    "version": 3
   },
   "file_extension": ".py",
   "mimetype": "text/x-python",
   "name": "python",
   "nbconvert_exporter": "python",
   "pygments_lexer": "ipython3",
   "version": "3.12.4"
  }
 },
 "nbformat": 4,
 "nbformat_minor": 5
}
