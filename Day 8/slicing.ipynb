{
 "cells": [
  {
   "cell_type": "code",
   "execution_count": 1,
   "id": "a261a5ed-b5ec-4dc9-b15a-20d45622a141",
   "metadata": {},
   "outputs": [],
   "source": [
    "import numpy as np"
   ]
  },
  {
   "cell_type": "code",
   "execution_count": 2,
   "id": "b6243bcc-9d27-403e-99c1-fe16fbfb46ab",
   "metadata": {},
   "outputs": [
    {
     "name": "stdout",
     "output_type": "stream",
     "text": [
      "[0 1 2 3 4 5 6 7 8 9]\n"
     ]
    }
   ],
   "source": [
    "arr1 = np.arange(10)\n",
    "print(arr1)"
   ]
  },
  {
   "cell_type": "code",
   "execution_count": 6,
   "id": "11ac0e26-76f6-43f0-85b5-f9fc0f11f3f8",
   "metadata": {},
   "outputs": [
    {
     "name": "stdout",
     "output_type": "stream",
     "text": [
      "3rd element :  2\n",
      "Last element :  9\n"
     ]
    }
   ],
   "source": [
    "print(\"3rd element : \",arr1[2])\n",
    "print(\"Last element : \",arr1[-1])"
   ]
  },
  {
   "cell_type": "code",
   "execution_count": 7,
   "id": "8c08eb55-88b1-4d3b-8bb4-e26d4a28bcd6",
   "metadata": {},
   "outputs": [
    {
     "name": "stdout",
     "output_type": "stream",
     "text": [
      "First 5 elements :  [0 1 2 3 4]\n",
      "Every other element :  [0 2 4 6 8]\n",
      "Array reversed :  [9 8 7 6 5 4 3 2 1 0]\n"
     ]
    }
   ],
   "source": [
    "print(\"First 5 elements : \",arr1[:5])\n",
    "print(\"Every other element : \",arr1[::2])\n",
    "print(\"Array reversed : \",arr1[::-1])"
   ]
  },
  {
   "cell_type": "code",
   "execution_count": 28,
   "id": "511f9672-8588-4bc7-8c26-a2e47488462b",
   "metadata": {},
   "outputs": [
    {
     "name": "stdout",
     "output_type": "stream",
     "text": [
      "[[1 2 3]\n",
      " [4 5 6]]\n"
     ]
    }
   ],
   "source": [
    "array_2D = np.array([[1,2,3],[4,5,6]])\n",
    "print(array_2D)"
   ]
  },
  {
   "cell_type": "code",
   "execution_count": 14,
   "id": "83eabe7c-0e7b-4c6b-a036-c84831608110",
   "metadata": {},
   "outputs": [
    {
     "name": "stdout",
     "output_type": "stream",
     "text": [
      "Entire 1st row: [1 2 3]\n"
     ]
    }
   ],
   "source": [
    "print(\"Entire 1st row:\", array_2D[0,:])"
   ]
  },
  {
   "cell_type": "code",
   "execution_count": 22,
   "id": "13979dd2-77a4-4be2-ba42-bb37769ab31e",
   "metadata": {},
   "outputs": [],
   "source": [
    "subarray = array_2D[:2, -2:]"
   ]
  },
  {
   "cell_type": "code",
   "execution_count": 23,
   "id": "49cc0b3d-1100-46ac-ad31-50e33ac86406",
   "metadata": {},
   "outputs": [],
   "source": [
    "subarray = array_2D[:2, -2:]"
   ]
  },
  {
   "cell_type": "code",
   "execution_count": 24,
   "id": "e099e5c7-8a33-4472-9a5b-31aba5a157a2",
   "metadata": {},
   "outputs": [
    {
     "name": "stdout",
     "output_type": "stream",
     "text": [
      "subarray :\n",
      " [[2 3]\n",
      " [5 6]]\n"
     ]
    }
   ],
   "source": [
    "subarray = array_2D[:2,-2:]\n",
    "print(\"subarray :\\n\", subarray)"
   ]
  },
  {
   "cell_type": "code",
   "execution_count": 31,
   "id": "ec72bb36-62d5-4bb4-b6e4-23520da00548",
   "metadata": {},
   "outputs": [
    {
     "name": "stdout",
     "output_type": "stream",
     "text": [
      "Every other element in 2D Array:\n",
      " [[4 6]]\n"
     ]
    }
   ],
   "source": [
    "sliced_array= array_2D[1::2, ::2]\n",
    "print(\"Every other element in 2D Array:\\n\", sliced_array)"
   ]
  },
  {
   "cell_type": "code",
   "execution_count": 30,
   "id": "3143f5cc-a2fd-4d71-878f-334d87e3dfaf",
   "metadata": {},
   "outputs": [
    {
     "name": "stdout",
     "output_type": "stream",
     "text": [
      "[[[1 2 3]\n",
      "  [4 5 6]\n",
      "  [7 8 9]]]\n"
     ]
    }
   ],
   "source": [
    "array_3D = np.array([[[1,2,3], [4,5,6], [7,8,9]]])\n",
    "print(array_3D)"
   ]
  },
  {
   "cell_type": "code",
   "execution_count": 33,
   "id": "6858eb1a-27b3-4ec7-96e0-9e51236972be",
   "metadata": {},
   "outputs": [
    {
     "name": "stdout",
     "output_type": "stream",
     "text": [
      "[[[ 9  9 13  8]\n",
      "  [18 11 18 17]\n",
      "  [12  2 20 12]]\n",
      "\n",
      " [[15 20 19 20]\n",
      "  [11  5 13  1]\n",
      "  [14  5  6 14]]]\n"
     ]
    }
   ],
   "source": [
    "array_3D = np.random.randint(1,21,(2,3,4))\n",
    "print(array_3D)\n"
   ]
  },
  {
   "cell_type": "code",
   "execution_count": null,
   "id": "ca9b6a43-4479-4653-a3a2-5dc09c9fee80",
   "metadata": {},
   "outputs": [],
   "source": []
  }
 ],
 "metadata": {
  "kernelspec": {
   "display_name": "Python 3 (ipykernel)",
   "language": "python",
   "name": "python3"
  },
  "language_info": {
   "codemirror_mode": {
    "name": "ipython",
    "version": 3
   },
   "file_extension": ".py",
   "mimetype": "text/x-python",
   "name": "python",
   "nbconvert_exporter": "python",
   "pygments_lexer": "ipython3",
   "version": "3.12.4"
  }
 },
 "nbformat": 4,
 "nbformat_minor": 5
}
