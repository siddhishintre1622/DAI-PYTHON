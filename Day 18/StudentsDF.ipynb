{
 "cells": [
  {
   "cell_type": "code",
   "execution_count": 4,
   "id": "ed44e994-345d-4dab-a247-4427af8604cb",
   "metadata": {},
   "outputs": [],
   "source": [
    "import pandas as pd"
   ]
  },
  {
   "cell_type": "code",
   "execution_count": 5,
   "id": "43bb4fb5-5193-46e8-8f5c-659adc008f5d",
   "metadata": {},
   "outputs": [],
   "source": [
    "students_data = {\n",
    "    'ID' : [1,2,3,4,5],\n",
    "    'Name' : ['A','B','C','D','E'],\n",
    "    'Age' : [20,22, 18,23,21],\n",
    "    'Gender' : ['F', 'M', 'M', 'F', 'F'],\n",
    "    'Score' : [85, None, 78,92, None]\n",
    "}"
   ]
  },
  {
   "cell_type": "code",
   "execution_count": 6,
   "id": "980158bb-b8be-4475-93d5-4f6628e75b9b",
   "metadata": {},
   "outputs": [],
   "source": [
    "students_df = pd.DataFrame(students_data)\n",
    "students_df.to_csv('students.csv')\n",
    "students_df = pd.read_csv('students.csv')"
   ]
  },
  {
   "cell_type": "code",
   "execution_count": 7,
   "id": "9007ab2f-66d1-4b5e-bdfc-7bb28ef67fc9",
   "metadata": {},
   "outputs": [],
   "source": [
    "extra_scores_data= {\n",
    "    'ID': [1,2,3,4,5],\n",
    "    'Subject': ['Maths', 'Eng', 'Hindi', 'Eng', 'Science'],\n",
    "    'Additional_Score': [5,10,15,20,25]\n",
    "}"
   ]
  },
  {
   "cell_type": "code",
   "execution_count": 8,
   "id": "fe9d4973-d0f6-497b-b3f9-6a4f654f92ae",
   "metadata": {},
   "outputs": [],
   "source": [
    "extra_scores_df = pd.DataFrame(extra_scores_data)\n",
    "extra_scores_df.to_csv('extra_scores.csv')\n",
    "extra_scores_df = pd.read_csv('extra_scores.csv')"
   ]
  },
  {
   "cell_type": "code",
   "execution_count": 9,
   "id": "5f3777b6-e698-4f8f-ab82-dfb2889f880c",
   "metadata": {},
   "outputs": [
    {
     "name": "stdout",
     "output_type": "stream",
     "text": [
      "Original Students Data: \n",
      "   Unnamed: 0  ID Name  Age Gender  Score\n",
      "0           0   1    A   20      F   85.0\n",
      "1           1   2    B   22      M    NaN\n",
      "2           2   3    C   18      M   78.0\n",
      "3           3   4    D   23      F   92.0\n",
      "4           4   5    E   21      F    NaN\n",
      "\n",
      " Extra Scores Data: \n",
      "   Unnamed: 0  ID  Subject  Additional_Score\n",
      "0           0   1    Maths                 5\n",
      "1           1   2      Eng                10\n",
      "2           2   3    Hindi                15\n",
      "3           3   4      Eng                20\n",
      "4           4   5  Science                25\n"
     ]
    }
   ],
   "source": [
    "print(\"Original Students Data: \")\n",
    "print(students_df)\n",
    "print(\"\\n Extra Scores Data: \")\n",
    "print(extra_scores_df)"
   ]
  },
  {
   "cell_type": "code",
   "execution_count": 10,
   "id": "bf1cdfa3-3516-4a16-b90f-5bf1f4212e5d",
   "metadata": {},
   "outputs": [
    {
     "name": "stdout",
     "output_type": "stream",
     "text": [
      "\n",
      " Updated Students Data: \n",
      "   Unnamed: 0  ID Name  Age Gender  Score\n",
      "0           0   1    A   20      F   85.0\n",
      "1           1   2    B   22      M   85.0\n",
      "2           2   3    C   18      M   78.0\n",
      "3           3   4    D   23      F   92.0\n",
      "4           4   5    E   21      F   85.0\n"
     ]
    },
    {
     "name": "stderr",
     "output_type": "stream",
     "text": [
      "C:\\Users\\dai.STUDENTSDC\\AppData\\Local\\Temp\\ipykernel_18620\\1588350197.py:3: FutureWarning: A value is trying to be set on a copy of a DataFrame or Series through chained assignment using an inplace method.\n",
      "The behavior will change in pandas 3.0. This inplace method will never work because the intermediate object on which we are setting values always behaves as a copy.\n",
      "\n",
      "For example, when doing 'df[col].method(value, inplace=True)', try using 'df.method({col: value}, inplace=True)' or df[col] = df[col].method(value) instead, to perform the operation inplace on the original object.\n",
      "\n",
      "\n",
      "  students_df['Score'].fillna(average_score, inplace=True)\n"
     ]
    }
   ],
   "source": [
    "Students_df = students_df.dropna(subset= ['Age'])\n",
    "average_score= students_df['Score'].mean()\n",
    "students_df['Score'].fillna(average_score, inplace=True)\n",
    "print(\"\\n Updated Students Data: \")\n",
    "print(students_df)"
   ]
  },
  {
   "cell_type": "code",
   "execution_count": 15,
   "id": "91041b8e-55a6-4d5e-a2a6-c4b2a8dc1a5d",
   "metadata": {},
   "outputs": [
    {
     "name": "stdout",
     "output_type": "stream",
     "text": [
      "Filtered Data Frame: \n",
      "[0    False\n",
      "1     True\n",
      "2    False\n",
      "3     True\n",
      "4     True\n",
      "dtype: bool]\n"
     ]
    }
   ],
   "source": [
    "filtered_students_df = [(students_df['Score'] > 70) & ( students_df['Age'] >20)]\n",
    "print (\"Filtered Data Frame: \")\n",
    "print(filtered_students_df)"
   ]
  },
  {
   "cell_type": "code",
   "execution_count": 18,
   "id": "22371f9b-1135-401f-bb25-afcbd5ce20ff",
   "metadata": {},
   "outputs": [
    {
     "name": "stdout",
     "output_type": "stream",
     "text": [
      "\n",
      " Updated Students DataFrame with Final Score: \n",
      "   Unnamed: 0  ID Name  Age Gender  Score  Final Score\n",
      "0           0   1    A   20      F   85.0         95.0\n",
      "1           1   2    B   22      M   85.0         95.0\n",
      "2           2   3    C   18      M   78.0         88.0\n",
      "3           3   4    D   23      F   92.0        102.0\n",
      "4           4   5    E   21      F   85.0         95.0\n"
     ]
    }
   ],
   "source": [
    "students_df['Final Score'] = students_df['Score'] + 10\n",
    "print(\"\\n Updated Students DataFrame with Final Score: \")\n",
    "print(students_df)"
   ]
  },
  {
   "cell_type": "code",
   "execution_count": 20,
   "id": "0fa267ba-e385-4296-a229-41118cc52365",
   "metadata": {},
   "outputs": [
    {
     "name": "stdout",
     "output_type": "stream",
     "text": [
      "\n",
      " Updated Students DataFrame without Gender column:\n",
      "   Unnamed: 0  ID Name  Age  Score  Final Score\n",
      "0           0   1    A   20   85.0         95.0\n",
      "1           1   2    B   22   85.0         95.0\n",
      "2           2   3    C   18   78.0         88.0\n",
      "3           3   4    D   23   92.0        102.0\n",
      "4           4   5    E   21   85.0         95.0\n"
     ]
    }
   ],
   "source": [
    "students_df = students_df.drop('Gender', axis=1)\n",
    "print(\"\\n Updated Students DataFrame without Gender column:\")\n",
    "print(students_df)"
   ]
  },
  {
   "cell_type": "code",
   "execution_count": 21,
   "id": "6f6fb186-6c34-4cbd-92ff-24e64180bbe3",
   "metadata": {},
   "outputs": [
    {
     "name": "stdout",
     "output_type": "stream",
     "text": [
      "\n",
      " Sorted Students DataFrame : \n",
      "   Unnamed: 0  ID Name  Age  Score  Final Score\n",
      "0           0   1    A   20   85.0         95.0\n",
      "1           1   2    B   22   85.0         95.0\n",
      "2           2   3    C   18   78.0         88.0\n",
      "3           3   4    D   23   92.0        102.0\n",
      "4           4   5    E   21   85.0         95.0\n"
     ]
    }
   ],
   "source": [
    "sorted_students_df = students_df.sort_values(by='Final Score', ascending= False)\n",
    "print(\"\\n Sorted Students DataFrame : \")\n",
    "print(students_df)"
   ]
  },
  {
   "cell_type": "code",
   "execution_count": 22,
   "id": "eec42770-bb7f-4845-bdd7-6d9f4b1ad3c6",
   "metadata": {},
   "outputs": [],
   "source": [
    "merged_df = pd.merge(students_df, extra_scores_df, on='ID', how='left')"
   ]
  },
  {
   "cell_type": "code",
   "execution_count": 26,
   "id": "6fa25f34-090f-440f-8220-4298f59ed82e",
   "metadata": {},
   "outputs": [
    {
     "name": "stdout",
     "output_type": "stream",
     "text": [
      "\n",
      " Merged DataFrame with Total Score: \n",
      "   Unnamed: 0_x  ID Name  Age  Score  Final Score  Unnamed: 0_y  Subject  \\\n",
      "0             0   1    A   20   85.0         95.0             0    Maths   \n",
      "1             1   2    B   22   85.0         95.0             1      Eng   \n",
      "2             2   3    C   18   78.0         88.0             2    Hindi   \n",
      "3             3   4    D   23   92.0        102.0             3      Eng   \n",
      "4             4   5    E   21   85.0         95.0             4  Science   \n",
      "\n",
      "   Additional_Score  Total Score  \n",
      "0                 5        100.0  \n",
      "1                10        105.0  \n",
      "2                15        103.0  \n",
      "3                20        122.0  \n",
      "4                25        120.0  \n"
     ]
    }
   ],
   "source": [
    "merged_df['Total Score'] = merged_df['Final Score'] + merged_df['Additional_Score']\n",
    "print(\"\\n Merged DataFrame with Total Score: \")\n",
    "print(merged_df)"
   ]
  },
  {
   "cell_type": "code",
   "execution_count": null,
   "id": "e9e83314-e8d9-4198-8036-021130e96117",
   "metadata": {},
   "outputs": [],
   "source": []
  }
 ],
 "metadata": {
  "kernelspec": {
   "display_name": "Python 3 (ipykernel)",
   "language": "python",
   "name": "python3"
  },
  "language_info": {
   "codemirror_mode": {
    "name": "ipython",
    "version": 3
   },
   "file_extension": ".py",
   "mimetype": "text/x-python",
   "name": "python",
   "nbconvert_exporter": "python",
   "pygments_lexer": "ipython3",
   "version": "3.12.4"
  }
 },
 "nbformat": 4,
 "nbformat_minor": 5
}
