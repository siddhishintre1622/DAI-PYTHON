{
 "cells": [
  {
   "cell_type": "code",
   "execution_count": 1,
   "id": "36d76ad4-8f30-479e-ae0b-4eea162788c9",
   "metadata": {},
   "outputs": [],
   "source": [
    "import numpy as np"
   ]
  },
  {
   "cell_type": "code",
   "execution_count": 8,
   "id": "3a26764a-f7f5-46fc-bcff-d0e814cfd9ad",
   "metadata": {},
   "outputs": [
    {
     "name": "stdout",
     "output_type": "stream",
     "text": [
      "Matrix 1\n",
      "[[3 1]\n",
      " [3 2]\n",
      " [5 6]\n",
      " [9 2]]\n",
      "Matrix 2\n",
      "[[6 6 2]\n",
      " [5 6 1]]\n"
     ]
    }
   ],
   "source": [
    "arr1 = np.random.randint(1,10,size=(4,2))\n",
    "arr2 = np.random.randint(1,10,size=(2,3))\n",
    "print(\"Matrix 1\")\n",
    "print(arr1)\n",
    "print(\"Matrix 2\")\n",
    "print(arr2)"
   ]
  },
  {
   "cell_type": "code",
   "execution_count": 9,
   "id": "3b6bb329-f305-4a63-b5a0-4fcba979cc77",
   "metadata": {},
   "outputs": [
    {
     "name": "stdout",
     "output_type": "stream",
     "text": [
      "[[23 24  7]\n",
      " [28 30  8]\n",
      " [60 66 16]\n",
      " [64 66 20]]\n"
     ]
    }
   ],
   "source": [
    "matmul = np.matmul(arr1,arr2)\n",
    "print(matmul)"
   ]
  },
  {
   "cell_type": "code",
   "execution_count": 10,
   "id": "5e3230b8-1b50-4bff-b8c2-0699d4c65638",
   "metadata": {},
   "outputs": [
    {
     "name": "stdout",
     "output_type": "stream",
     "text": [
      "[[23 28 60 64]\n",
      " [24 30 66 66]\n",
      " [ 7  8 16 20]]\n"
     ]
    }
   ],
   "source": [
    "transpose = matmul.T\n",
    "print(transpose)"
   ]
  },
  {
   "cell_type": "code",
   "execution_count": null,
   "id": "cb77d3d5-71dc-48b9-8b4b-4d0e18a6f544",
   "metadata": {},
   "outputs": [],
   "source": []
  }
 ],
 "metadata": {
  "kernelspec": {
   "display_name": "Python 3 (ipykernel)",
   "language": "python",
   "name": "python3"
  },
  "language_info": {
   "codemirror_mode": {
    "name": "ipython",
    "version": 3
   },
   "file_extension": ".py",
   "mimetype": "text/x-python",
   "name": "python",
   "nbconvert_exporter": "python",
   "pygments_lexer": "ipython3",
   "version": "3.12.4"
  }
 },
 "nbformat": 4,
 "nbformat_minor": 5
}
