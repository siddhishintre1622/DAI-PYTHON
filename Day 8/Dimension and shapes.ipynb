{
 "cells": [
  {
   "cell_type": "code",
   "execution_count": 1,
   "id": "93e8e9d5-5cf9-4783-91ed-183deed2c94a",
   "metadata": {},
   "outputs": [],
   "source": [
    "import numpy as np\n"
   ]
  },
  {
   "cell_type": "code",
   "execution_count": 2,
   "id": "40f6c7f8-3161-4adc-b848-c39961361c94",
   "metadata": {},
   "outputs": [],
   "source": [
    "arr1 = np.array([1,2,3])\n",
    "arr2 = np.array([[1,2,3],[4,5,6]])\n",
    "arr3 = np.array([[[1,2,3],[4,5,6],[7,8,9]]])\n"
   ]
  },
  {
   "cell_type": "code",
   "execution_count": 4,
   "id": "9740606b-515c-4df0-97e9-e2b03ddb653a",
   "metadata": {},
   "outputs": [
    {
     "name": "stdout",
     "output_type": "stream",
     "text": [
      "[array([1, 2, 3]), array([[1, 2, 3],\n",
      "       [4, 5, 6]]), array([[[1, 2, 3],\n",
      "        [4, 5, 6],\n",
      "        [7, 8, 9]]])]\n"
     ]
    }
   ],
   "source": [
    "arr_list = [arr1,arr2,arr3]\n",
    "print(arr_list)"
   ]
  },
  {
   "cell_type": "code",
   "execution_count": 6,
   "id": "0cc2369d-5166-40d4-94c5-b508a3ce94f7",
   "metadata": {},
   "outputs": [
    {
     "name": "stdout",
     "output_type": "stream",
     "text": [
      "Dimensions :  1\n",
      "Size : 3\n",
      "Shape : (3,)\n",
      "---------------------\n",
      "Dimensions :  2\n",
      "Size : 6\n",
      "Shape : (2, 3)\n",
      "---------------------\n",
      "Dimensions :  3\n",
      "Size : 9\n",
      "Shape : (1, 3, 3)\n",
      "---------------------\n"
     ]
    }
   ],
   "source": [
    "def describe_arr(arr):\n",
    "    print(\"Dimensions : \",arr.ndim)\n",
    "    print(\"Size :\",arr.size)\n",
    "    print(\"Shape :\",arr.shape)   \n",
    "\n",
    "\n",
    "for i in arr_list:\n",
    "    describe_arr(i)\n",
    "    print(\"---------------------\")"
   ]
  },
  {
   "cell_type": "code",
   "execution_count": null,
   "id": "4682dffb-c799-4a7d-b999-06889786abcc",
   "metadata": {},
   "outputs": [],
   "source": []
  }
 ],
 "metadata": {
  "kernelspec": {
   "display_name": "Python 3 (ipykernel)",
   "language": "python",
   "name": "python3"
  },
  "language_info": {
   "codemirror_mode": {
    "name": "ipython",
    "version": 3
   },
   "file_extension": ".py",
   "mimetype": "text/x-python",
   "name": "python",
   "nbconvert_exporter": "python",
   "pygments_lexer": "ipython3",
   "version": "3.12.4"
  }
 },
 "nbformat": 4,
 "nbformat_minor": 5
}
