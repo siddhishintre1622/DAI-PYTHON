{
 "cells": [
  {
   "cell_type": "code",
   "execution_count": 1,
   "id": "9f3598d0-1a10-4110-a3aa-68d601c02a32",
   "metadata": {},
   "outputs": [
    {
     "name": "stdout",
     "output_type": "stream",
     "text": [
      "Requirement already satisfied: scipy in c:\\anaconda-install\\lib\\site-packages (1.13.1)\n",
      "Requirement already satisfied: numpy<2.3,>=1.22.4 in c:\\anaconda-install\\lib\\site-packages (from scipy) (1.26.4)\n",
      "Note: you may need to restart the kernel to use updated packages.\n"
     ]
    }
   ],
   "source": [
    "pip install scipy"
   ]
  },
  {
   "cell_type": "code",
   "execution_count": 1,
   "id": "6277f8dc-e8da-4d60-b6f9-09a787cf9005",
   "metadata": {},
   "outputs": [],
   "source": [
    "from scipy import constants"
   ]
  },
  {
   "cell_type": "code",
   "execution_count": 5,
   "id": "348d1db7-163e-4c17-a290-cdb29884f341",
   "metadata": {},
   "outputs": [],
   "source": [
    "from scipy.optimize import minimize"
   ]
  },
  {
   "cell_type": "code",
   "execution_count": 6,
   "id": "63383db9-99cd-4a92-aae5-8cbcbf4ed915",
   "metadata": {},
   "outputs": [],
   "source": [
    "def obj(x):\n",
    "    return x**2 + 3*x + 2"
   ]
  },
  {
   "cell_type": "code",
   "execution_count": 11,
   "id": "1f013883-66aa-4e23-89e3-1abff1971e6f",
   "metadata": {},
   "outputs": [
    {
     "ename": "TypeError",
     "evalue": "minimize() got an unexpected keyword argument 'x'",
     "output_type": "error",
     "traceback": [
      "\u001b[1;31m---------------------------------------------------------------------------\u001b[0m",
      "\u001b[1;31mTypeError\u001b[0m                                 Traceback (most recent call last)",
      "Cell \u001b[1;32mIn[11], line 1\u001b[0m\n\u001b[1;32m----> 1\u001b[0m result \u001b[38;5;241m=\u001b[39m minimize(obj,x\u001b[38;5;241m=\u001b[39m\u001b[38;5;241m5\u001b[39m)\n\u001b[0;32m      2\u001b[0m \u001b[38;5;28mprint\u001b[39m(result\u001b[38;5;241m.\u001b[39mx)\n",
      "\u001b[1;31mTypeError\u001b[0m: minimize() got an unexpected keyword argument 'x'"
     ]
    }
   ],
   "source": [
    "result = minimize(obj,x0=5)\n",
    "print(result.x)"
   ]
  },
  {
   "cell_type": "code",
   "execution_count": 12,
   "id": "c71290fd-5a72-46d3-98a7-193b242c43a4",
   "metadata": {},
   "outputs": [],
   "source": [
    "from scipy.integrate import quad"
   ]
  },
  {
   "cell_type": "code",
   "execution_count": 16,
   "id": "becc8c8c-ecba-4782-ab52-b4ead4a0ab7a",
   "metadata": {},
   "outputs": [],
   "source": [
    "def integrand(x):\n",
    "    return x**2\n"
   ]
  },
  {
   "cell_type": "code",
   "execution_count": 17,
   "id": "68e48dbf-7a42-4fea-8907-04323f32775c",
   "metadata": {},
   "outputs": [
    {
     "name": "stdout",
     "output_type": "stream",
     "text": [
      "0.33333333333333337\n"
     ]
    }
   ],
   "source": [
    "result,error = quad(integrand,0,1)\n",
    "print(result)"
   ]
  },
  {
   "cell_type": "code",
   "execution_count": 18,
   "id": "3c64af94-f68a-43bf-9d9d-5f1af4c54a86",
   "metadata": {},
   "outputs": [],
   "source": [
    "from scipy.linalg import inv,det\n",
    "import numpy as np"
   ]
  },
  {
   "cell_type": "code",
   "execution_count": 19,
   "id": "6eb6c59b-01ec-48e5-bf0c-583c3e3cb80d",
   "metadata": {},
   "outputs": [
    {
     "name": "stdout",
     "output_type": "stream",
     "text": [
      "-2.0\n"
     ]
    }
   ],
   "source": [
    "matrix = np.array([[1,2],[3,4]])\n",
    "mat_det = det(matrix)\n",
    "print(mat_det)"
   ]
  },
  {
   "cell_type": "code",
   "execution_count": 20,
   "id": "966fa473-a419-43c2-b292-3590398d9d69",
   "metadata": {},
   "outputs": [],
   "source": [
    "from scipy.interpolate import interp1d"
   ]
  },
  {
   "cell_type": "code",
   "execution_count": 21,
   "id": "0f628a27-5f8b-45a4-a034-45fbac5b182c",
   "metadata": {},
   "outputs": [],
   "source": [
    "import numpy as np"
   ]
  },
  {
   "cell_type": "code",
   "execution_count": 22,
   "id": "10b3d071-791a-4b52-a300-fea6cd4f8ccf",
   "metadata": {},
   "outputs": [],
   "source": [
    "x = np.array([0,1,2,3])\n",
    "y = np.array([0,1,4,9])"
   ]
  },
  {
   "cell_type": "code",
   "execution_count": 23,
   "id": "5f7fe820-4638-4fa6-8426-1bc3fca700d8",
   "metadata": {},
   "outputs": [],
   "source": [
    "f = interp1d(x,y, kind='linear')"
   ]
  },
  {
   "cell_type": "code",
   "execution_count": 24,
   "id": "b2802189-07f0-4545-b29a-b52e4b9bd12b",
   "metadata": {},
   "outputs": [
    {
     "name": "stdout",
     "output_type": "stream",
     "text": [
      "6.5\n"
     ]
    }
   ],
   "source": [
    "new_x = 2.5\n",
    "interpolated_value = f(new_x)\n",
    "print(interpolated_value)"
   ]
  },
  {
   "cell_type": "code",
   "execution_count": null,
   "id": "b0618b64-58ca-429c-866f-bbc89464acd1",
   "metadata": {},
   "outputs": [],
   "source": []
  }
 ],
 "metadata": {
  "kernelspec": {
   "display_name": "Python 3 (ipykernel)",
   "language": "python",
   "name": "python3"
  },
  "language_info": {
   "codemirror_mode": {
    "name": "ipython",
    "version": 3
   },
   "file_extension": ".py",
   "mimetype": "text/x-python",
   "name": "python",
   "nbconvert_exporter": "python",
   "pygments_lexer": "ipython3",
   "version": "3.12.4"
  }
 },
 "nbformat": 4,
 "nbformat_minor": 5
}
