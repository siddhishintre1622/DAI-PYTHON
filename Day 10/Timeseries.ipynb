{
 "cells": [
  {
   "cell_type": "code",
   "execution_count": 2,
   "id": "1dfdd8dd-8d46-4993-9d1e-a64d30b6900b",
   "metadata": {},
   "outputs": [],
   "source": [
    "import numpy as np\n",
    "import pandas as pd"
   ]
  },
  {
   "cell_type": "code",
   "execution_count": 3,
   "id": "a6126213-2079-4047-8425-732194396e45",
   "metadata": {},
   "outputs": [],
   "source": [
    "dates = pd.date_range(start='2024-01-01', periods=10, freq='D')"
   ]
  },
  {
   "cell_type": "code",
   "execution_count": 10,
   "id": "54780e7c-7f07-47ed-945d-ff25d2af0212",
   "metadata": {},
   "outputs": [],
   "source": [
    "data = np.random.rand(10)"
   ]
  },
  {
   "cell_type": "code",
   "execution_count": 11,
   "id": "59988a31-85ac-4409-b3db-63a385963691",
   "metadata": {},
   "outputs": [
    {
     "data": {
      "text/plain": [
       "DatetimeIndex(['2024-01-01', '2024-01-02', '2024-01-03', '2024-01-04',\n",
       "               '2024-01-05', '2024-01-06', '2024-01-07', '2024-01-08',\n",
       "               '2024-01-09', '2024-01-10'],\n",
       "              dtype='datetime64[ns]', freq='D')"
      ]
     },
     "execution_count": 11,
     "metadata": {},
     "output_type": "execute_result"
    }
   ],
   "source": [
    "dates"
   ]
  },
  {
   "cell_type": "code",
   "execution_count": 12,
   "id": "5ae55c1c-3341-4354-ba56-470e213eee08",
   "metadata": {},
   "outputs": [
    {
     "data": {
      "text/plain": [
       "array([0.49194133, 0.49861588, 0.93515505, 0.8122392 , 0.18759644,\n",
       "       0.6365942 , 0.24023703, 0.61383828, 0.77030686, 0.81170467])"
      ]
     },
     "execution_count": 12,
     "metadata": {},
     "output_type": "execute_result"
    }
   ],
   "source": [
    "data"
   ]
  },
  {
   "cell_type": "code",
   "execution_count": 44,
   "id": "d8bd65fe-7419-4d3b-90b7-842a1ada5a1d",
   "metadata": {},
   "outputs": [],
   "source": [
    "ts = pd.Series(data,index=dates)"
   ]
  },
  {
   "cell_type": "code",
   "execution_count": 45,
   "id": "0a25860f-14c9-46ad-97f6-27a8a4476b35",
   "metadata": {},
   "outputs": [
    {
     "data": {
      "text/plain": [
       "2024-01-01    0.491941\n",
       "2024-01-02    0.498616\n",
       "2024-01-03    0.935155\n",
       "2024-01-04    0.812239\n",
       "2024-01-05    0.187596\n",
       "2024-01-06    0.636594\n",
       "2024-01-07    0.240237\n",
       "2024-01-08    0.613838\n",
       "2024-01-09    0.770307\n",
       "2024-01-10    0.811705\n",
       "Freq: D, dtype: float64"
      ]
     },
     "execution_count": 45,
     "metadata": {},
     "output_type": "execute_result"
    }
   ],
   "source": [
    "ts"
   ]
  },
  {
   "cell_type": "code",
   "execution_count": 46,
   "id": "be7bc06a-b61a-439d-a46e-b8f150daeaf4",
   "metadata": {},
   "outputs": [
    {
     "data": {
      "text/plain": [
       "0.1875964389836553"
      ]
     },
     "execution_count": 46,
     "metadata": {},
     "output_type": "execute_result"
    }
   ],
   "source": [
    "ts['2024-01-05']"
   ]
  },
  {
   "cell_type": "code",
   "execution_count": 47,
   "id": "2b8df703-1a49-4b5b-b828-7e925a7dcca1",
   "metadata": {},
   "outputs": [
    {
     "data": {
      "text/plain": [
       "2024-01-01    0.491941\n",
       "2024-01-02    0.498616\n",
       "2024-01-03    0.935155\n",
       "2024-01-04    0.812239\n",
       "2024-01-05    0.187596\n",
       "2024-01-06    0.636594\n",
       "2024-01-07    0.240237\n",
       "2024-01-08    0.613838\n",
       "2024-01-09    0.770307\n",
       "2024-01-10    0.811705\n",
       "Freq: D, dtype: float64"
      ]
     },
     "execution_count": 47,
     "metadata": {},
     "output_type": "execute_result"
    }
   ],
   "source": [
    "ts[ts>0]"
   ]
  },
  {
   "cell_type": "code",
   "execution_count": 48,
   "id": "db00acb9-09a8-46af-a090-0cab3ab4bf7f",
   "metadata": {},
   "outputs": [
    {
     "data": {
      "text/plain": [
       "2024-01-01 00:00:00   -1.911082\n",
       "2024-01-01 01:00:00   -1.207688\n",
       "2024-01-01 02:00:00    0.454221\n",
       "2024-01-01 03:00:00   -0.435056\n",
       "2024-01-01 04:00:00    0.977777\n",
       "2024-01-01 05:00:00    1.120914\n",
       "2024-01-01 06:00:00   -0.124591\n",
       "2024-01-01 07:00:00   -0.471930\n",
       "2024-01-01 08:00:00   -0.958751\n",
       "2024-01-01 09:00:00    2.120548\n",
       "2024-01-01 10:00:00    1.681917\n",
       "2024-01-01 11:00:00    1.121026\n",
       "2024-01-01 12:00:00    0.521511\n",
       "2024-01-01 13:00:00    0.143562\n",
       "2024-01-01 14:00:00   -2.342823\n",
       "2024-01-01 15:00:00    1.134031\n",
       "2024-01-01 16:00:00    0.217138\n",
       "2024-01-01 17:00:00    0.206728\n",
       "2024-01-01 18:00:00    0.552281\n",
       "2024-01-01 19:00:00   -0.895626\n",
       "2024-01-01 20:00:00   -0.209691\n",
       "2024-01-01 21:00:00    0.763009\n",
       "2024-01-01 22:00:00    0.106702\n",
       "2024-01-01 23:00:00    1.146179\n",
       "Freq: h, dtype: float64"
      ]
     },
     "execution_count": 48,
     "metadata": {},
     "output_type": "execute_result"
    }
   ],
   "source": [
    "hourly_dates = pd.date_range(start='2024-01-01',periods=24,freq='h')\n",
    "hourly_data= np.random.randn(24)\n",
    "hourly_series = pd.Series(hourly_data,index=hourly_dates)\n",
    "hourly_series"
   ]
  },
  {
   "cell_type": "code",
   "execution_count": 49,
   "id": "d1741686-a247-4f46-9519-e87ff28088d2",
   "metadata": {},
   "outputs": [
    {
     "data": {
      "text/plain": [
       "2024-01-01    0.491941\n",
       "2024-01-02    0.498616\n",
       "2024-01-03    0.935155\n",
       "2024-01-04    0.812239\n",
       "2024-01-05    0.187596\n",
       "2024-01-06    0.636594\n",
       "2024-01-07    0.240237\n",
       "2024-01-08    0.613838\n",
       "2024-01-09    0.770307\n",
       "2024-01-10    0.811705\n",
       "Freq: D, dtype: float64"
      ]
     },
     "execution_count": 49,
     "metadata": {},
     "output_type": "execute_result"
    }
   ],
   "source": [
    "ts['2024-01-01':'2024-01-10'][ts>0]"
   ]
  },
  {
   "cell_type": "code",
   "execution_count": 50,
   "id": "6d572760-301a-4e14-b5f0-245b256819e5",
   "metadata": {},
   "outputs": [
    {
     "data": {
      "text/plain": [
       "0.49194133465875267"
      ]
     },
     "execution_count": 50,
     "metadata": {},
     "output_type": "execute_result"
    }
   ],
   "source": [
    "ts.loc['2024-01-01']"
   ]
  },
  {
   "cell_type": "code",
   "execution_count": 51,
   "id": "76c00cf2-cca1-4905-b520-d5f8fdb18032",
   "metadata": {},
   "outputs": [
    {
     "data": {
      "text/plain": [
       "0.49194133465875267"
      ]
     },
     "execution_count": 51,
     "metadata": {},
     "output_type": "execute_result"
    }
   ],
   "source": [
    "ts['2024-01-01']"
   ]
  },
  {
   "cell_type": "code",
   "execution_count": 52,
   "id": "209d70d0-7be5-4e63-bc58-29d53789a113",
   "metadata": {},
   "outputs": [
    {
     "data": {
      "text/plain": [
       "0.49194133465875267"
      ]
     },
     "execution_count": 52,
     "metadata": {},
     "output_type": "execute_result"
    }
   ],
   "source": [
    "ts.iloc[0]"
   ]
  },
  {
   "cell_type": "code",
   "execution_count": 32,
   "id": "39eb55a4-39f4-45ad-807d-30468be54dcb",
   "metadata": {},
   "outputs": [
    {
     "data": {
      "text/plain": [
       "2024-01-01    0.491941\n",
       "2024-01-02    0.498616\n",
       "2024-01-03    0.935155\n",
       "Freq: D, dtype: float64"
      ]
     },
     "execution_count": 32,
     "metadata": {},
     "output_type": "execute_result"
    }
   ],
   "source": [
    "ts.iloc[0:3]"
   ]
  },
  {
   "cell_type": "code",
   "execution_count": 34,
   "id": "95c2dea5-9734-4a8a-86d5-80bf7eaa2d64",
   "metadata": {},
   "outputs": [
    {
     "data": {
      "text/plain": [
       "2024-01-01    0.491941\n",
       "2024-01-04    0.812239\n",
       "2024-01-08    0.613838\n",
       "dtype: float64"
      ]
     },
     "execution_count": 34,
     "metadata": {},
     "output_type": "execute_result"
    }
   ],
   "source": [
    "ts.iloc[[0,3,7]]"
   ]
  },
  {
   "cell_type": "code",
   "execution_count": 53,
   "id": "dcc6d4a6-8ed6-4288-9b5f-321381735f0f",
   "metadata": {},
   "outputs": [
    {
     "data": {
      "text/plain": [
       "2024-01-01    0.491941\n",
       "2024-01-02    0.498616\n",
       "2024-01-03    0.935155\n",
       "2024-01-04    0.812239\n",
       "2024-01-05    0.187596\n",
       "Freq: D, dtype: float64"
      ]
     },
     "execution_count": 53,
     "metadata": {},
     "output_type": "execute_result"
    }
   ],
   "source": [
    "ts['2024-01-01' : '2024-01-05']"
   ]
  },
  {
   "cell_type": "code",
   "execution_count": null,
   "id": "bc2ebdec-dab6-495a-bb71-5957e6ad5e9f",
   "metadata": {},
   "outputs": [],
   "source": []
  }
 ],
 "metadata": {
  "kernelspec": {
   "display_name": "Python 3 (ipykernel)",
   "language": "python",
   "name": "python3"
  },
  "language_info": {
   "codemirror_mode": {
    "name": "ipython",
    "version": 3
   },
   "file_extension": ".py",
   "mimetype": "text/x-python",
   "name": "python",
   "nbconvert_exporter": "python",
   "pygments_lexer": "ipython3",
   "version": "3.12.4"
  }
 },
 "nbformat": 4,
 "nbformat_minor": 5
}
