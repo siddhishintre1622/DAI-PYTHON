{
 "cells": [
  {
   "cell_type": "code",
   "execution_count": 1,
   "id": "cfe1a1f1-274a-423a-bf36-d451750e0370",
   "metadata": {},
   "outputs": [],
   "source": [
    "import pandas as pd"
   ]
  },
  {
   "cell_type": "code",
   "execution_count": 23,
   "id": "5ec55b8a-7113-4f1f-86e4-17656b2d68ad",
   "metadata": {},
   "outputs": [
    {
     "name": "stdout",
     "output_type": "stream",
     "text": [
      "0    10\n",
      "1    10\n",
      "2    20\n",
      "3    20\n",
      "4    30\n",
      "5    40\n",
      "6    40\n",
      "dtype: int64\n"
     ]
    }
   ],
   "source": [
    "data = pd.Series([10,10,20,20,30,40,40])\n",
    "print(data)"
   ]
  },
  {
   "cell_type": "code",
   "execution_count": 24,
   "id": "d6241e68-2173-4314-8034-f96ab0a7857c",
   "metadata": {},
   "outputs": [
    {
     "name": "stdout",
     "output_type": "stream",
     "text": [
      "Average Rank\n",
      "0    1.5\n",
      "1    1.5\n",
      "2    3.5\n",
      "3    3.5\n",
      "4    5.0\n",
      "5    6.5\n",
      "6    6.5\n",
      "dtype: float64\n"
     ]
    }
   ],
   "source": [
    "print(\"Average Rank\") \n",
    "print(data.rank(method='average'))"
   ]
  },
  {
   "cell_type": "code",
   "execution_count": 25,
   "id": "8a88912a-feeb-4d44-a73c-d002b5757ffa",
   "metadata": {},
   "outputs": [
    {
     "name": "stdout",
     "output_type": "stream",
     "text": [
      "Min rank\n",
      "0    1.0\n",
      "1    1.0\n",
      "2    3.0\n",
      "3    3.0\n",
      "4    5.0\n",
      "5    6.0\n",
      "6    6.0\n",
      "dtype: float64\n"
     ]
    }
   ],
   "source": [
    "print(\"Min rank\")\n",
    "print(data.rank(method='min'))"
   ]
  },
  {
   "cell_type": "code",
   "execution_count": 19,
   "id": "772e63a4-9984-45f6-8993-55f245897dbe",
   "metadata": {},
   "outputs": [
    {
     "name": "stdout",
     "output_type": "stream",
     "text": [
      "Max rank\n",
      "0    1.0\n",
      "1    3.0\n",
      "2    3.0\n",
      "3    5.0\n",
      "4    5.0\n",
      "dtype: float64\n"
     ]
    }
   ],
   "source": [
    "print(\"Max rank\")\n",
    "print(data.rank(method='max'))"
   ]
  },
  {
   "cell_type": "code",
   "execution_count": 15,
   "id": "99905263-cf32-4c23-80d5-4e86ee01d9cf",
   "metadata": {},
   "outputs": [
    {
     "name": "stdout",
     "output_type": "stream",
     "text": [
      "First rank\n",
      "0    1.0\n",
      "1    2.0\n",
      "2    3.0\n",
      "3    4.0\n",
      "dtype: float64\n"
     ]
    }
   ],
   "source": [
    "print(\"First rank\")\n",
    "print(data.rank(method='first'))"
   ]
  },
  {
   "cell_type": "code",
   "execution_count": 10,
   "id": "f0fdf82a-58da-4e8d-baf7-6c45ed38beb2",
   "metadata": {},
   "outputs": [
    {
     "name": "stdout",
     "output_type": "stream",
     "text": [
      "Dense rank\n",
      "0    1.0\n",
      "1    2.0\n",
      "2    3.0\n",
      "3    4.0\n",
      "dtype: float64\n"
     ]
    }
   ],
   "source": [
    "print(\"Dense rank\")\n",
    "print(data.rank(method='dense'))"
   ]
  },
  {
   "cell_type": "code",
   "execution_count": null,
   "id": "3bd26080-4be5-4151-a564-e7df98a91806",
   "metadata": {},
   "outputs": [],
   "source": []
  }
 ],
 "metadata": {
  "kernelspec": {
   "display_name": "Python 3 (ipykernel)",
   "language": "python",
   "name": "python3"
  },
  "language_info": {
   "codemirror_mode": {
    "name": "ipython",
    "version": 3
   },
   "file_extension": ".py",
   "mimetype": "text/x-python",
   "name": "python",
   "nbconvert_exporter": "python",
   "pygments_lexer": "ipython3",
   "version": "3.12.4"
  }
 },
 "nbformat": 4,
 "nbformat_minor": 5
}
