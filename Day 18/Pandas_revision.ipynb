{
 "cells": [
  {
   "cell_type": "code",
   "execution_count": 1,
   "id": "e84bd5a5-26e2-4d31-9223-f58b594196d4",
   "metadata": {},
   "outputs": [],
   "source": [
    "import pandas as pd"
   ]
  },
  {
   "cell_type": "code",
   "execution_count": 6,
   "id": "b758aadb-cc93-43a1-9976-ff6a84a80155",
   "metadata": {},
   "outputs": [],
   "source": [
    "Employees = ['A','B','C','D','E']\n",
    "ID = [1,2,3,4,5]\n",
    "Salaries = [10000,20000,40000,30000,32000]\n",
    "Companies = ['A','B','B','C','D']\n"
   ]
  },
  {
   "cell_type": "code",
   "execution_count": 7,
   "id": "b83b3364-3105-43f9-8e85-8ebde0a36100",
   "metadata": {},
   "outputs": [],
   "source": [
    "df_emp= pd.DataFrame({\n",
    "    'Emp_ID': ID,\n",
    "    'Emp_Name': Employees,\n",
    "    'Company' : Companies\n",
    "})"
   ]
  },
  {
   "cell_type": "code",
   "execution_count": 8,
   "id": "723ef78c-0cd7-4c61-a242-c889e0022a86",
   "metadata": {},
   "outputs": [],
   "source": [
    "df_sal = pd.DataFrame({\n",
    "    'Emp_ID': ID,\n",
    "    'Salary': Salaries\n",
    "})"
   ]
  },
  {
   "cell_type": "code",
   "execution_count": 9,
   "id": "ea86583b-ab8e-4f3d-b293-4c8a47444663",
   "metadata": {},
   "outputs": [],
   "source": [
    "df_final= pd.merge(df_emp,df_sal, on='Emp_ID')"
   ]
  },
  {
   "cell_type": "code",
   "execution_count": 10,
   "id": "a64d6eca-5442-40da-8a51-5811af78ed00",
   "metadata": {},
   "outputs": [
    {
     "name": "stdout",
     "output_type": "stream",
     "text": [
      "Final Emp details with Salary: \n",
      "   Emp_ID Emp_Name Company  Salary\n",
      "0       1        A       A   10000\n",
      "1       2        B       B   20000\n",
      "2       3        C       B   40000\n",
      "3       4        D       C   30000\n",
      "4       5        E       D   32000\n"
     ]
    }
   ],
   "source": [
    "print(\"Final Emp details with Salary: \")\n",
    "print(df_final)"
   ]
  },
  {
   "cell_type": "code",
   "execution_count": null,
   "id": "d9ad44ec-1319-4a43-878a-95ba73acc06b",
   "metadata": {},
   "outputs": [],
   "source": []
  }
 ],
 "metadata": {
  "kernelspec": {
   "display_name": "Python 3 (ipykernel)",
   "language": "python",
   "name": "python3"
  },
  "language_info": {
   "codemirror_mode": {
    "name": "ipython",
    "version": 3
   },
   "file_extension": ".py",
   "mimetype": "text/x-python",
   "name": "python",
   "nbconvert_exporter": "python",
   "pygments_lexer": "ipython3",
   "version": "3.12.4"
  }
 },
 "nbformat": 4,
 "nbformat_minor": 5
}
